{
 "cells": [
  {
   "cell_type": "markdown",
   "metadata": {},
   "source": [
    "# Illumina Overview Tutorial: Moving Pictures of the Human Microbiome\n",
    "\n",
    "# 0. Notes:\n",
    "\n",
    "\n",
    "\n",
    "* pick_open_reference_otus.py calls internal qiime functions that arent exposed to regular python shell (cant import them).  Specifically pick_open_reference_otus.py calls a workflow function  pick_subsampled_open_reference_otus(). \n",
    "\n",
    "*/usr/local/lib/python2.7/dist-packages/qiime/workflow/pick_open_reference_otus.py\n",
    "\n",
    "import qiime\n",
    "from qiime.filter import filter_otus_from_otu_map\n",
    "qiime.filter.filter_otus_from_otu_map('otus/final_otu_map.txt', 'otus/final_otu_map_mc2.txt', 2)\n",
    "\n",
    "\n",
    "*Below log file gives some clues...\n",
    "file:///home/qiime/Desktop/Qiime_Notebook/qiime_illumina_notebook/moving_pictures_tutorial-1.9.0/illumina/otus/log_20160711181547.txt\n",
    "\n",
    "*Two steps are unaccounted for (no commans given)\n",
    "https://groups.google.com/forum/#!topic/qiime-forum/q5pO-xhCONU\n",
    "\n",
    "*OTU picking prodcues these results:\n",
    "final_otu_map_mc2.txt\n",
    "new_refseqs.fna\n",
    "final_otu_map.txt\n",
    "otu_table_mc2.biom\n",
    "rep_set.fna\n",
    "index.html\n",
    "otu_table_mc2_w_tax.biom\n",
    "rep_set.tre\n",
    "log_20160711181547.txt\n",
    "otu_table_mc2_w_tax_no_pynast_failures.biom\n",
    "\n",
    "otus/pynast_aligned_seqs:\n",
    "rep_set_aligned.fasta\n",
    "rep_set_aligned_pfiltered.fasta\n",
    "rep_set_failures.fasta\n",
    "rep_set_log.txt\n",
    "\n",
    "otus/step1_otus:\n",
    "failures.fasta\n",
    "seqs_clusters.uc\n",
    "seqs_failures.txt\n",
    "seqs_otus.log\n",
    "seqs_otus.txt\n",
    "step1_rep_set.fna\n",
    "\n",
    "otus/step4_otus:\n",
    "failures_clusters.uc\n",
    "failures_otus.log\n",
    "failures_otus.txt\n",
    "step4_rep_set.fna\n",
    "\n",
    "otus/uclust_assigned_taxonomy:\n",
    "rep_set_tax_assignments.log\n",
    "rep_set_tax_assignments.txt\n",
    "\n",
    "\n",
    "\n",
    "\n",
    "\n",
    "# 1. About\n",
    "This notebook was taken from http://nbviewer.jupyter.org/github/biocore/qiime/blob/1.9.1/examples/ipynb/illumina_overview_tutorial.ipynb\n",
    "\n",
    "It has been edited/annotated for content relevance.\n",
    "\n",
    "This tutorial covers a full QIIME workflow using Illumina sequencing data. This tutorial is intended to be quick to run, and as such, uses only a subset of a full Illumina Genome Analyzer II (GAIIx) run. We'll make use of the [Greengenes](http://www.ncbi.nlm.nih.gov/pubmed/22134646) reference OTUs, which is the default reference database used by QIIME. You can determine which version of Greengenes is being used by running ``print_qiime_config.py``. This will be [Greengenes](http://www.ncbi.nlm.nih.gov/pubmed/22134646), unless you've configured QIIME to use a different reference database by default.\n",
    "\n",
    "The data used in this tutorial are derived from the [Moving Pictures of the Human Microbiome](http://www.ncbi.nlm.nih.gov/pubmed/21624126) study, where two human subjects collected daily samples from four body sites: the tongue, the palm of the left hand, the palm of the right hand, and the gut (via fecal samples obtained by swapping used toilet paper). These data were sequenced using the barcoded amplicon sequencing protocol described in [Global patterns of 16S rRNA diversity at a depth of millions of sequences per sample](http://www.ncbi.nlm.nih.gov/pubmed/20534432). A more recent version of this protocol that can be used with the Illumina HiSeq 2000 and MiSeq can be found [here](http://www.ncbi.nlm.nih.gov/pubmed/22402401). \n",
    "    \n",
    "This tutorial is presented as an IPython Notebook. For more information on using QIIME with IPython, see [Ragan-Kelley et al. (2013)](http://www.ncbi.nlm.nih.gov/pubmed/23096404). You can find more information on the IPython Notebook [here](http://ipython.org/notebook.html).\n"
   ]
  },
  {
   "cell_type": "markdown",
   "metadata": {},
   "source": [
    "##2. Install qiime libraries"
   ]
  },
  {
   "cell_type": "code",
   "execution_count": null,
   "metadata": {
    "collapsed": false
   },
   "outputs": [],
   "source": [
    "!pip install qiime"
   ]
  },
  {
   "cell_type": "markdown",
   "metadata": {},
   "source": [
    "## 3. Necessary Files\n",
    "\n",
    "We'll begin by downloading the tutorial data.\n"
   ]
  },
  {
   "cell_type": "code",
   "execution_count": 1,
   "metadata": {
    "collapsed": false
   },
   "outputs": [
    {
     "name": "stdout",
     "output_type": "stream",
     "text": [
      "Current working directory is: /home/qiime/Desktop/Qiime_Notebook/qiime_illumina_notebook\n",
      "Current working directory is: /home/qiime/Desktop/Qiime_Notebook/qiime_illumina_notebook/moving_pictures_tutorial-1.9.0/illumina\n",
      "\n",
      "Done!\n"
     ]
    }
   ],
   "source": [
    "#####################################################\n",
    "##### Downloads and unzips all tutorial files #######\n",
    "#####################################################\n",
    "import urllib2\n",
    "import tarfile\n",
    "import os\n",
    "from subprocess import call\n",
    "\n",
    "# make a directory for our tutorial, and jump into it\n",
    "root=\"qiime_illumina_notebook\"\n",
    "if os.getcwd().split('/')[-1] != root:\n",
    "    if not os.path.isdir(root):\n",
    "        os.mkdir(root)\n",
    "    os.chdir(root)\n",
    "print \"Current working directory is: \" + os.getcwd()\n",
    "\n",
    "# Files to grab\n",
    "files = [(' ftp://ftp.microbio.me/qiime/tutorial_files/moving_pictures_tutorial-1.9.0.tgz','')]\n",
    "\n",
    "# Grab and unzip the files\n",
    "for url, path in files:\n",
    "    target = url.split('/')[-1]\n",
    "    if not os.path.isfile(target):\n",
    "        resource = urllib2.urlopen(url)\n",
    "        print \"Downloading \" + target + \"...\\n\"\n",
    "        open(target,'wb').write(resource.read())\n",
    "        \n",
    "        if url.split('.')[-1] == 'tgz':\n",
    "            print \"Extracting \" + target + \"...\\n\"\n",
    "            tarfile.open(target, \"r:gz\").extractall()\n",
    "\n",
    "# File Directory names:\n",
    "dir='moving_pictures_tutorial-1.9.0/illumina'\n",
    "os.chdir(dir)\n",
    "print \"Current working directory is: \" + os.getcwd()\n",
    "print \"\\nDone!\"\n"
   ]
  },
  {
   "cell_type": "markdown",
   "metadata": {},
   "source": [
    "# 3. Commands\n",
    "\n",
    "## 1. Check our mapping file for errors\n",
    "The QIIME mapping file contains all of the per-sample metadata, including technical information such as primers and barcodes that were used for each sample, and information about the samples, including what body site they were taken from. In this data set we're looking at human microbiome samples from four sites on the bodies of two individuals at mutliple time points. The metadata in this case therefore includes a subject identifier, a timepoint, and a body site for each sample. You can review the ``map.tsv`` file at the link in the previous cell to see an example of the data (or view the [published Google Spreadsheet version](https://docs.google.com/spreadsheets/d/1FXHtTmvw1gM4oUMbRdwQIEOZJlhFGeMNUvZmuEFqpps/pubhtml?gid=0&single=true), which is more nicely formatted).\n",
    "\n",
    "In this step, we run ``validate_mapping_file.py`` to ensure that our mapping file is compatible with QIIME."
   ]
  },
  {
   "cell_type": "code",
   "execution_count": 2,
   "metadata": {
    "collapsed": false
   },
   "outputs": [
    {
     "name": "stdout",
     "output_type": "stream",
     "text": [
      "No errors or warnings were found in mapping file.\r\n"
     ]
    }
   ],
   "source": [
    "!validate_mapping_file.py -o vmf-map/ -m map.tsv"
   ]
  },
  {
   "cell_type": "markdown",
   "metadata": {},
   "source": [
    "In this case there were no errors, but if there were we would review the resulting HTML summary to find out what errors are present. You could then fix those in a spreadsheet program or text editor and rerun ``validate_mapping_file.py`` on the updated mapping file.\n",
    "\n",
    "For the sake of illustrating what errors in a mapping file might look like, we've created a bad mapping file (``map-bad.tsv``). We'll next call ``validate_mapping_file.py`` on the file ``map-bad.tsv``. Review the resulting HTML report. What are the issues with this mapping file? \n",
    "\n",
    "### 1.1 Documentation:\n",
    "http://qiime.org/scripts/validate_mapping_file.html\n",
    "\n",
    "### 1.2 Output Files:\n",
    "<table>\n",
    "<hr><td>Output File</td><td>Description</td></hr>\n",
    "<tr><td>\\* .html</td><td>HTML version of the mapping file.  Highlights errors/warnings and provides error messages.</td></tr>\n",
    "<tr><td>\\* .log</td><td>Error log.</td></tr>\n",
    "<tr><td>\\* ._corrected.txt</td><td>Original mapping file annotated to coply with MIENS.  Any invalid characters  in the SampleID field will be replaced with ‘.’ characters.  Invalid text in other data fields will be replaced with the -c parameter (“_” by default).</td></tr>\n",
    "<tr><td>overlib.js</td><td>Javascript to run the .html page.  Contains some configuration options (color, spacing, etc.)</td></tr>\n",
    "\n",
    "<tr><td>assembledReads.report     </td><td>  Assembly report for each sequence</td></tr>\n",
    "\n"
   ]
  },
  {
   "cell_type": "markdown",
   "metadata": {},
   "source": [
    "## 2. Demultiplexing and quality filtering sequences\n",
    "\n",
    "We next need to demultiplex and quality filter our sequences (i.e. assigning barcoded reads to the samples they are derived from). In general, you should get separate fastq files for your sequence and barcode reads. Note that we pass these files while still gzipped. ``split_libraries_fastq.py`` can handle gzipped or unzipped fastq files. The default strategy in QIIME for quality filtering of Illumina data is described in [Bokulich et al (2013)](http://www.ncbi.nlm.nih.gov/pmc/articles/PMC3531572/)."
   ]
  },
  {
   "cell_type": "code",
   "execution_count": 3,
   "metadata": {
    "collapsed": false
   },
   "outputs": [],
   "source": [
    "!split_libraries_fastq.py -o slout/ -i forward_reads.fastq.gz -b barcodes.fastq.gz -m map.tsv"
   ]
  },
  {
   "cell_type": "markdown",
   "metadata": {},
   "source": [
    "Next, we can see how many sequences we ended up with using ``count_seqs.py``."
   ]
  },
  {
   "cell_type": "code",
   "execution_count": 4,
   "metadata": {
    "collapsed": false
   },
   "outputs": [
    {
     "name": "stdout",
     "output_type": "stream",
     "text": [
      "\r\n",
      "186333  : slout/seqs.fna (Sequence lengths (mean +/- std): 132.2422 +/- 9.8806)\r\n",
      "186333  : Total\r\n"
     ]
    }
   ],
   "source": [
    "!count_seqs.py -i slout/seqs.fna"
   ]
  },
  {
   "cell_type": "markdown",
   "metadata": {},
   "source": [
    "### 2.1 Documentation:\n",
    "http://qiime.org/scripts/split_libraries_fastq.html\n",
    "\n",
    "### 2.2 Output Files:\n",
    "<table>\n",
    "<hr><td>Output File</td><td>Description</td></hr>\n",
    "<tr><td>histograms.txt</td><td>Histogram of sequence lengths.</td></tr>\n",
    "<tr><td>seqs.fna</td><td>Cleaned sequences, grouped and tagged with their sample name.</td></tr>\n",
    "<tr><td>split_library_log.txt</td><td>Summary + log file.  Lists input files, number of rejected sequences (due to length, barcode errors, too many N, etc).  Lists the number of sequences in each sample.</td></tr>\n",
    "</table>"
   ]
  },
  {
   "cell_type": "markdown",
   "metadata": {},
   "source": [
    "## 3. OTU picking: using an open-reference OTU picking protocol by searching reads against the Greengenes database."
   ]
  },
  {
   "cell_type": "markdown",
   "metadata": {},
   "source": [
    "Now that we have demultiplexed sequences, we're ready to cluster these sequences into OTUs. There are three high-level ways to do this in QIIME. We can use *de novo*, *closed-reference*, or *open-reference OTU picking*. Open-reference OTU picking is currently our preferred method. Discussion of these methods can be found in [Rideout et. al (2014)](https://peerj.com/articles/545/).\n",
    "\n",
    "Here we apply open-reference OTU picking. Note that this command takes the ``seqs.fna`` file that was generated in the previous step. We're also specifying some parameters to the ``pick_otus.py`` command, which is internal to this workflow. Specifically, we set ``enable_rev_strand_match`` to ``True``, which allows sequences to match the reference database if either their forward or reverse orientation matches to a reference sequence. This parameter is specified in the *parameters file* which is passed as ``-p``. You can find information on defining parameters files [here](http://www.qiime.org/documentation/file_formats.html#qiime-parameters).\n",
    "\n",
    "**This step can take about 10 minutes to complete.**"
   ]
  },
  {
   "cell_type": "code",
   "execution_count": 5,
   "metadata": {
    "collapsed": false
   },
   "outputs": [
    {
     "name": "stdout",
     "output_type": "stream",
     "text": [
      "Error in pick_open_reference_otus.py: Output directory already exists. Please choose a different directory, or force overwrite with -f.\r\n",
      "\r\n",
      "If you need help with QIIME, see:\r\n",
      "http://help.qiime.org\r\n"
     ]
    }
   ],
   "source": [
    "!pick_open_reference_otus.py -o otus/ -i slout/seqs.fna -p ../uc_fast_params.txt"
   ]
  },
  {
   "cell_type": "markdown",
   "metadata": {},
   "source": [
    "The primary output that we get from this command is the *OTU table*, or the number of times each operational taxonomic unit (OTU) is observed in each sample. QIIME uses the Genomics Standards Consortium Biological Observation Matrix standard (BIOM) format for representing OTU tables. You can find additional information on the BIOM format [here](http://www.biom-format.org), and information on converting these files to tab-separated text that can be viewed in spreadsheet programs [here](http://biom-format.org/documentation/biom_conversion.html). Several OTU tables are generated by this command. The one we typically want to work with is ``otus/otu_table_mc2_w_tax_no_pynast_failures.biom``. This has singleton OTUs (or OTUs with a total count of 1) removed, as well as OTUs whose representative (i.e., centroid) sequence couldn't be aligned with [PyNAST](http://bioinformatics.oxfordjournals.org/content/26/2/266.long). It also contains taxonomic assignments for each OTU as *observation metadata*.\n",
    "\n",
    "The open-reference OTU picking command also produces a phylogenetic tree where the tips are the OTUs. The file containing the tree is ``otus/rep_set.tre``, and is the file that should be used with ``otus/otu_table_mc2_w_tax_no_pynast_failures.biom`` in downstream phylogenetic diversity calculations. The tree is stored in the widely used [newick format](http://scikit-bio.org/docs/latest/generated/skbio.io.newick.html).\n",
    "\n",
    "To view the output of this command, open ``index.html`` file in the output directory.\n",
    "### 3.1 Documentation:\n",
    "http://qiime.org/scripts/split_libraries_fastq.html\n",
    "\n",
    "### 3.2 Output Files:\n",
    "<table>\n",
    "<hr><td>Output File</td><td>Description</td></hr>\n",
    "<tr><td>Index.html</td><td>HTML table with links and descriptions of some of the output files relating to OTU identification.</td></tr>\n",
    "<tr><td>log_[timestamp].txt</td><td>Log file.  Dumps parameters and variables.  Contains the sub commands run by pick_open_reference_otus.py and input/output/errors. </td></tr>\n",
    "<tr><td>rep_set_tax_assignments.txt</td><td>   ?    </td></tr>\n",
    "<tr><td>otu_table_mc2.biom</td><td>Binary file. OTU table exluding OTUs with fewer than 2 sequences.\t</td></tr>\n",
    "<tr><td>otu_table_mc2_w_tax.biom</td><td>Binary file. OTU table exluding OTUs with fewer than 2 sequences and including OTU taxonomy assignments\t</td></tr>\n",
    "<tr><td>otu_table_mc2_w_tax_no_pynast_failures.biom</td><td>Binary file. OTU table exluding OTUs with fewer than 2 sequences and sequences that fail to align with PyNAST and including OTU taxonomy assignments\t</td></tr>\n",
    "<tr><td>rep_set.tre</td><td>OTU phylogenetic tree\t</td></tr>\n",
    "\n",
    "<tr><td>new_refseqs.fna</td><td>New reference sequences (i.e., OTU representative sequences plus input reference sequences)</td></tr>\n",
    "<tr><td>final_otu_map.txt</td><td>List of OTU numbers and all corresponding samples.  Includes OTUs from closed and denovo clustering.</td></tr>\n",
    "<tr><td>final_otu_map_mc2.txt</td><td>List of OTU numbers and all corresponding samples.  Includes OTUs from closed and denovo clustering, plus any remaining singleton sequences.</td></tr>\n",
    "\n",
    "\n",
    "\n",
    "<tr><td>uclust_assigned_taxonomy/rep_set.fna</td><td>OTU representative sequences</td></tr>\n",
    "<tr><td>uclust_assigned_taxonomy/rep_set_tax_assignments.log</td><td>? uClust file. A table with data about the clusters: Type, ClusterID, SeqLength or ClusterSize, %ID, etc.</td></tr>\n",
    "\n",
    "<tr><td>step1_otus/failures.fasta</td><td>The failures from seqs_failures.txt, but with BPs to make a fasta file.</td></tr>\n",
    "<tr><td>step1_otus/seqs_clusters.uc</td><td>? uClust file of successful closed ref clusters.  Table showing A table with data about the clusters: Type, ClusterID, SeqLength or ClusterSize, %ID, etc.</td></tr>\n",
    "<tr><td>step1_otus/seqs_failures.txt</td><td>List of sample ids (no BPs) that failed to match.</td></tr>\n",
    "<tr><td>step1_otus/seqs_otus.log</td><td>Dump of parameters used in closed-ref clustering.</td></tr>\n",
    "<tr><td>step1_otus/seqs_otus.txt</td><td>List of clusters (from closed ref) and the samples belonging to them.</td></tr>\n",
    "<tr><td>step1_otus/step1_rep_set.fna</td><td>Fasta file containing representative sequences from each successfully ID'd OTU.</td></tr>\n",
    "\n",
    "<tr><td>step4_otus/failures_clusters.uc</td><td>?? uClust file of denovo clustering failures.  Table showing A table with data about the clusters: Type, ClusterID, SeqLength or ClusterSize, %ID, etc.</td></tr>\n",
    "<tr><td>step4_otus/failures_otus.log</td><td>Dump of parameters used in denovo clustering.</td></tr>\n",
    "<tr><td>step4_otus/failures_otus.txt</td><td>Lists clusters (obtained from failed closed-ref assignment) and the samples belonging to them.</td></tr>\n",
    "<tr><td>step4_otus/step4_rep_set.fna</td><td> ???? Representative subset from failures.  For ?</td></tr>\n",
    "\n",
    "<tr><td>pynast_aligned_seqs/rep_set_aligned.fasta</td><td>Fasta file containing all aligned sequences.</td></tr>\n",
    "<tr><td>pynast_aligned_seqs/rep_set_aligned_pfiltered.fasta</td><td>Fasta file containing only conserved positions.  i.e. Columns with only gaps are removed.</td></tr>\n",
    "<tr><td>pynast_aligned_seqs/rep_set_failures.fasta</td><td>Fasta file containing all sequences not meeting criteria specified.</td></tr>\n",
    "<tr><td>pynast_aligned_seqs/rep_set_log.txt</td><td>Table detailing final sequence identification (sequence ID, Species#, BLAST %, etc).</td></tr>\n",
    "\n",
    "</table>"
   ]
  },
  {
   "cell_type": "markdown",
   "metadata": {},
   "source": [
    "## Closed Refrence OTU Picking\n",
    "The first step in open reference OTU picking is to match as many sequences as possible to a reference database.\n",
    "\n",
    "### Documentation\n",
    "http://qiime.org/scripts/pick_otus.html\n",
    "\n",
    "### Output Files\n",
    "<table>\n",
    "<hr><td>Output File</td><td>Description</td></hr>\n",
    "<tr><td>step1_otus/seqs_otus.log</td><td>Dump of parameters used in closed ref picking.</td></tr>\n",
    "<tr><td>step1_otus/seqs_otus.txt</td><td>List of clusters (from closed ref) and the samples belonging to them.</td></tr>\n",
    "<tr><td>step1_otus/seqs_failures.txt</td><td>List of sample ids (no BPs) that failed closed ref OTU picking.</td></tr>\n",
    "<tr><td>?unsure where this goes?step1_otus/seqs_clusters.uc</td><td>? uClust file of successful closed ref clusters.  Table showing A table with data about the clusters: Type, ClusterID, SeqLength or ClusterSize, %ID, etc.</td></tr>\n",
    "</table>"
   ]
  },
  {
   "cell_type": "code",
   "execution_count": null,
   "metadata": {
    "collapsed": true
   },
   "outputs": [],
   "source": [
    "!pick_otus.py -i slout/seqs.fna -o otus/step1_otus -r /usr/local/lib/python2.7/dist-packages/qiime_default_reference/gg_13_8_otus/rep_set/97_otus.fasta -m uclust_ref --enable_rev_strand_match --suppress_new_clusters"
   ]
  },
  {
   "cell_type": "markdown",
   "metadata": {},
   "source": [
    "## Generate full failures fasta file\n",
    "We need a fasta file containing the sequences that failed closed ref OTU picking.  However, the last step produced a file (seqs_failures.txt) which listed failures by sequence ID (without BPs), so we need to reconstruct a fasta file (by looking up the failure's BP sequences in the old fasta file (seqs.fna).\n",
    "### Documentation\n",
    "http://qiime.org/scripts/filter_fasta.html\n",
    "### Output Files\n",
    "<table>\n",
    "<hr><td>Output File</td><td>Description</td></hr>\n",
    "<tr><td>step1_otus/failures.fasta</td><td>The failures from seqs_failures.txt, but with BPs to make a fasta file.</td></tr>\n",
    "</table>"
   ]
  },
  {
   "cell_type": "code",
   "execution_count": null,
   "metadata": {
    "collapsed": true
   },
   "outputs": [],
   "source": [
    "!filter_fasta.py -f slout/seqs.fna -s otus/step1_otus/seqs_failures.txt -o otus/step1_otus/failures.fasta"
   ]
  },
  {
   "cell_type": "markdown",
   "metadata": {},
   "source": [
    "# Pick a representative from each closed ref cluster\n",
    "Picks a representative set from the sequences that were identified in closed ref OTU picking.\n",
    "### Documentation\n",
    "http://qiime.org/scripts/pick_rep_set.html\n",
    "### Output Files\n",
    "<table>\n",
    "<hr><td>Output File</td><td>Description</td></hr>\n",
    "<tr><td>step1_otus/step1_rep_set.fna</td><td>Fasta file containing representative sequences from each successfully ID'd OTU.</td></tr>\n",
    "</table>"
   ]
  },
  {
   "cell_type": "code",
   "execution_count": null,
   "metadata": {
    "collapsed": true
   },
   "outputs": [],
   "source": [
    "!pick_rep_set.py -i otus/step1_otus/seqs_otus.txt -o otus/step1_otus/step1_rep_set.fna -f slout/seqs.fna"
   ]
  },
  {
   "cell_type": "markdown",
   "metadata": {
    "collapsed": true
   },
   "source": [
    "## Pick de novo OTUs on closed ref failures\n",
    "From the closed ref failures, preform denovo clustering to identify novel OTUs.\n",
    "### Documentation\n",
    "http://qiime.org/scripts/pick_otus.html\n",
    "### Output Files\n",
    "<table>\n",
    "<hr><td>Output File</td><td>Description</td></hr>\n",
    "<tr><td>step4_otus/failures_otus.log</td><td>Dump of parameters used in denovo clustering.</td></tr>\n",
    "<tr><td>step4_otus/failures_otus.txt</td><td>Lists clusters (obtained from failed closed-ref assignment) and the samples belonging to them.</td></tr>\n",
    "<tr><td>?unsure if this belongs here? step4_otus/failures_clusters.uc</td><td>?? uClust file of denovo clustering failures.  Table showing A table with data about the clusters: Type, ClusterID, SeqLength or ClusterSize, %ID, etc.</td></tr>\n",
    "</table>"
   ]
  },
  {
   "cell_type": "code",
   "execution_count": null,
   "metadata": {
    "collapsed": true
   },
   "outputs": [],
   "source": [
    "!pick_otus.py -i otus/step1_otus/failures.fasta -o otus/step4_otus/ -m uclust  --denovo_otu_id_prefix New.CleanUp.ReferenceOTU --enable_rev_strand_match"
   ]
  },
  {
   "cell_type": "markdown",
   "metadata": {
    "collapsed": true
   },
   "source": [
    "## Merge OTU maps\n",
    "Merge the closed ref and denovo OTU maps into one OTU map.\n",
    "### Documentation\n",
    "http://man7.org/linux/man-pages/man1/cat.1.html\n",
    "### Output Files\n",
    "<table>\n",
    "<hr><td>Output File</td><td>Description</td></hr>\n",
    "<tr><td>final_otu_map.txt</td><td>List of OTU numbers and all corresponding samples.  Includes OTUs from closed and denovo clustering.</td></tr>\n",
    "</table>"
   ]
  },
  {
   "cell_type": "code",
   "execution_count": null,
   "metadata": {
    "collapsed": true
   },
   "outputs": [],
   "source": [
    "!cat otus/step1_otus/seqs_otus.txt  otus/step4_otus/failures_otus.txt > otus/final_otu_map.txt"
   ]
  },
  {
   "cell_type": "markdown",
   "metadata": {
    "collapsed": true
   },
   "source": [
    "## Pick representative for each denovo cluster\n",
    "Picks a representative sequence from each cluster identified by denovo clustering.\n",
    "### Documentation\n",
    "http://qiime.org/scripts/pick_otus.html\n",
    "### Output Files\n",
    "<table>\n",
    "<hr><td>Output File</td><td>Description</td></hr>\n",
    "<tr><td>step4_otus/step4_rep_set.fna</td><td>Representative subset of sequences from each denovo cluster.</td></tr>\n",
    "</table>"
   ]
  },
  {
   "cell_type": "code",
   "execution_count": null,
   "metadata": {
    "collapsed": true
   },
   "outputs": [],
   "source": [
    "!pick_rep_set.py -i otus/step4_otus/failures_otus.txt -o otus/step4_otus/step4_rep_set.fna -f otus/step1_otus/failures.fasta"
   ]
  },
  {
   "cell_type": "markdown",
   "metadata": {
    "collapsed": true
   },
   "source": [
    "## Filter singletons (fewer than 2 members) from the OTU map using API \n",
    "Singletons in the OTU map are removed.\n",
    "### Output Files\n",
    "<table>\n",
    "<hr><td>Output File</td><td>Description</td></hr>\n",
    "<tr><td>final_otu_map_mc2.txt</td><td>List of OTU numbers and all corresponding samples.  Includes OTUs from closed and denovo clustering, minus any singleton clusters.</td></tr>\n",
    "</table>"
   ]
  },
  {
   "cell_type": "code",
   "execution_count": 12,
   "metadata": {
    "collapsed": false
   },
   "outputs": [
    {
     "name": "stdout",
     "output_type": "stream",
     "text": [
      "set(['1027904', '1050608', '2595164', '816470', 'New.CleanUp.ReferenceOTU839', '410908', 'New.CleanUp.ReferenceOTU348', 'New.CleanUp.ReferenceOTU1629', '4375688', 'New.CleanUp.ReferenceOTU1627', '4128584', '748537', '410905', '330294', '4307790', '4400735', '829373', '253429', '1108960', '1119668', '4454356', '866280', 'New.CleanUp.ReferenceOTU2410', '82194', '587041', '241454', 'New.CleanUp.ReferenceOTU892', 'New.CleanUp.ReferenceOTU1139', 'New.CleanUp.ReferenceOTU909', 'New.CleanUp.ReferenceOTU908', '580916', '844940', '959160', 'New.CleanUp.ReferenceOTU903', '3482976', '359105', '244248', '4357712', '366716', '4343580', '1093417', '4339144', '4371046', '230421', 'New.CleanUp.ReferenceOTU349', '198866', '153978', '463861', '807329', '592925', '505587', '697990', '165827', '519353', '4373910', '250288', '2949328', '514041', 'New.CleanUp.ReferenceOTU2399', '766563', '505565', 'New.CleanUp.ReferenceOTU1626', '366794', '2163609', '215231', '392111', '985339', '533787', '563240', 'New.CleanUp.ReferenceOTU102', 'New.CleanUp.ReferenceOTU2078', '328466', '1718658', '558661', 'New.CleanUp.ReferenceOTU1621', '190026', '1919007', '966828', 'New.CleanUp.ReferenceOTU2174', '328081', '540862', '859700', 'New.CleanUp.ReferenceOTU888', '191043', 'New.CleanUp.ReferenceOTU2179', '558444', '523934', '1107721', 'New.CleanUp.ReferenceOTU2076', '195203', '4322986', '4408274', 'New.CleanUp.ReferenceOTU2117', 'New.CleanUp.ReferenceOTU2116', '510295', 'New.CleanUp.ReferenceOTU2110', 'New.CleanUp.ReferenceOTU2113', '4414827', '1022861', 'New.CleanUp.ReferenceOTU2730', '152823', '274011', '540592', '2017729', 'New.CleanUp.ReferenceOTU335', '345717', 'New.CleanUp.ReferenceOTU2230', '199543', 'New.CleanUp.ReferenceOTU2232', '820202', 'New.CleanUp.ReferenceOTU2235', '3141094', '352933', '137881', 'New.CleanUp.ReferenceOTU331', '4400869', '59566', '633100', '575041', '1086889', '898309', '3127555', 'New.CleanUp.ReferenceOTU1907', '4369327', 'New.CleanUp.ReferenceOTU1904', '829745', 'New.CleanUp.ReferenceOTU1901', 'New.CleanUp.ReferenceOTU773', '185864', 'New.CleanUp.ReferenceOTU2586', 'New.CleanUp.ReferenceOTU2582', '718979', '331717', '321101', '919487', '130864', '4305815', 'New.CleanUp.ReferenceOTU1888', '1104454', '574249', 'New.CleanUp.ReferenceOTU2525', '3472078', '572889', '1992', '187404', '4374645', 'New.CleanUp.ReferenceOTU1834', '1099710', '543491', '182116', '591642', '163345', '690395', '193915', 'New.CleanUp.ReferenceOTU2347', 'New.CleanUp.ReferenceOTU2341', 'New.CleanUp.ReferenceOTU2486', '1114747', '4369878', '584730', '583102', '179989', '981912', '1007750', 'New.CleanUp.ReferenceOTU1337', '365628', '555945', '248831', '4340137', 'New.CleanUp.ReferenceOTU1457', '1042479', '202381', '197072', '574102', 'New.CleanUp.ReferenceOTU2480', '516198', '798634', '368490', '271159', '367977', '143175', 'New.CleanUp.ReferenceOTU2695', '71799', 'New.CleanUp.ReferenceOTU2698', 'New.CleanUp.ReferenceOTU2699', 'New.CleanUp.ReferenceOTU906', '3256931', '511572', '15912', '3319380', 'New.CleanUp.ReferenceOTU982', '446403', '217266', '1090059', '1043045', 'New.CleanUp.ReferenceOTU2643', '178852', '818887', '533246', '541415', '4345640', '519510', 'New.CleanUp.ReferenceOTU2566', 'New.CleanUp.ReferenceOTU2567', '356138', '1051459', '103151', '2137001', 'New.CleanUp.ReferenceOTU647', '31235', '1740499', 'New.CleanUp.ReferenceOTU2765', '183534', 'New.CleanUp.ReferenceOTU2763', 'New.CleanUp.ReferenceOTU2760', '900044', 'New.CleanUp.ReferenceOTU1583', '296086', '725048', 'New.CleanUp.ReferenceOTU1586', 'New.CleanUp.ReferenceOTU1585', '1064036', '3426658', '524404', '4452949', 'New.CleanUp.ReferenceOTU1521', '849147', '950909', '1108350', 'New.CleanUp.ReferenceOTU1144', '589975', '197203', '4469960', '1107128', 'New.CleanUp.ReferenceOTU1055', '107258', '552026', 'New.CleanUp.ReferenceOTU1056', '566216', '577294', '361702', 'New.CleanUp.ReferenceOTU1451', '92263', 'New.CleanUp.ReferenceOTU135', 'New.CleanUp.ReferenceOTU136', 'New.CleanUp.ReferenceOTU138', '1110625', 'New.CleanUp.ReferenceOTU272', '516576', '1038641', '667010', '1108282', '143423', '1964005', '352034', '886640', '4401580', '359020', '4307309', '1051744', '4478426', '2237211', '110549', '158393', '581189', 'New.CleanUp.ReferenceOTU828', 'New.CleanUp.ReferenceOTU350', 'New.CleanUp.ReferenceOTU827', 'New.CleanUp.ReferenceOTU352', 'New.CleanUp.ReferenceOTU1635', 'New.CleanUp.ReferenceOTU355', 'New.CleanUp.ReferenceOTU356', 'New.CleanUp.ReferenceOTU1636', '1008348', '744023', 'New.CleanUp.ReferenceOTU739', '589376', 'New.CleanUp.ReferenceOTU1522', '1018359', '4331760', 'New.CleanUp.ReferenceOTU736', '522420', '503236', 'New.CleanUp.ReferenceOTU1493', 'New.CleanUp.ReferenceOTU1012', '4397593', '35330', '354461', '574655', '351976', '198947', '760967', 'New.CleanUp.ReferenceOTU1127', 'New.CleanUp.ReferenceOTU911', 'New.CleanUp.ReferenceOTU1120', 'New.CleanUp.ReferenceOTU1123', '241449', 'New.CleanUp.ReferenceOTU1016', 'New.CleanUp.ReferenceOTU1128', '2558420', '590735', '4483174', '4312886', 'New.CleanUp.ReferenceOTU1793', '4365611', '101152', '4379223', '925707', '974121', '995960', '559470', '1072787', '3166216', '1036557', '888396', 'New.CleanUp.ReferenceOTU2444', '817734', '444857', '783719', '539866', '514453', '88035', 'New.CleanUp.ReferenceOTU2373', '1885089', '1084157', '181155', '4396454', '1066621', '1073276', '802011', '744371', '192093', '364926', 'New.CleanUp.ReferenceOTU2636', '545956', 'New.CleanUp.ReferenceOTU2819', '257863', '367417', '997010', '791738', '345095', '41911', '592170', '185476', '2685271', 'New.CleanUp.ReferenceOTU219', '1033679', '199226', '377546', '204093', '944420', '313764', 'New.CleanUp.ReferenceOTU2021', 'New.CleanUp.ReferenceOTU2162', 'New.CleanUp.ReferenceOTU2164', '810959', '1109964', 'New.CleanUp.ReferenceOTU2301', '4411083', 'New.CleanUp.ReferenceOTU2223', '1076316', '1024188', 'New.CleanUp.ReferenceOTU2026', 'New.CleanUp.ReferenceOTU176', '182052', '4338598', '861375', '570552', '198151', 'New.CleanUp.ReferenceOTU725', '176994', '4467447', '357342', '1084906', '586230', 'New.CleanUp.ReferenceOTU1933', '246785', '894492', '139056', 'New.CleanUp.ReferenceOTU2590', '243579', '358343', '544177', 'New.CleanUp.ReferenceOTU2599', '344619', '588906', '4459021', '495394', '495396', '943989', '312140', '528362', '246238', '757622', '4456091', '416994', 'New.CleanUp.ReferenceOTU1328', '264185', 'New.CleanUp.ReferenceOTU2356', '44257', 'New.CleanUp.ReferenceOTU2353', 'New.CleanUp.ReferenceOTU2351', '370584', '363264', '71638', '583134', '1145388', '194107', '944202', '365634', 'New.CleanUp.ReferenceOTU2687', '557978', '573634', '591583', '1007180', '86428', '355905', '197069', '1012195', 'New.CleanUp.ReferenceOTU2150', '2820255', '525215', '147195', '868791', '539735', '320483', '465989', 'New.CleanUp.ReferenceOTU547', '926531', '68345', '718145', '826597', '347704', '808758', '540086', '365033', '243956', '502919', '178001', '4417053', '785526', '4333154', '139520', 'New.CleanUp.ReferenceOTU490', 'New.CleanUp.ReferenceOTU708', '327851', 'New.CleanUp.ReferenceOTU2579', '533277', 'New.CleanUp.ReferenceOTU2577', '886728', '544313', 'New.CleanUp.ReferenceOTU2574', 'New.CleanUp.ReferenceOTU2778', '193679', '4360055', '1016369', '543684', '4310396', '4310395', '1080100', '144518', '111313', 'New.CleanUp.ReferenceOTU1541', 'New.CleanUp.ReferenceOTU1021', 'New.CleanUp.ReferenceOTU582', '1108343', '716006', '4470236', 'New.CleanUp.ReferenceOTU104', '196332', 'New.CleanUp.ReferenceOTU106', 'New.CleanUp.ReferenceOTU101', '15059', '519237', '537362', '300662', '4297420', '585653', '1105696', '207252', '4301566', '345793', 'New.CleanUp.ReferenceOTU2790', '503406', '156755', 'New.CleanUp.ReferenceOTU1334', 'New.CleanUp.ReferenceOTU1335', 'New.CleanUp.ReferenceOTU1336', 'New.CleanUp.ReferenceOTU674', '946052', '318190', 'New.CleanUp.ReferenceOTU697', 'New.CleanUp.ReferenceOTU696', 'New.CleanUp.ReferenceOTU691', 'New.CleanUp.ReferenceOTU1485', '4421998', 'New.CleanUp.ReferenceOTU1690', '361600', '193372', '4339765', 'New.CleanUp.ReferenceOTU367', '524676', '308072', 'New.CleanUp.ReferenceOTU2820', '279231', '793524', '822670', 'New.CleanUp.ReferenceOTU749', 'New.CleanUp.ReferenceOTU748', 'New.CleanUp.ReferenceOTU2829', '894969', '392918', 'New.CleanUp.ReferenceOTU743', 'New.CleanUp.ReferenceOTU214', '161423', '819037', 'New.CleanUp.ReferenceOTU1305', '1121806', 'New.CleanUp.ReferenceOTU614', '1047041', '4297222', '194875', '1099802', '92636', 'New.CleanUp.ReferenceOTU967', 'New.CleanUp.ReferenceOTU965', '4316391', 'New.CleanUp.ReferenceOTU1155', 'New.CleanUp.ReferenceOTU961', 'New.CleanUp.ReferenceOTU960', '150112', '575844', '567336', 'New.CleanUp.ReferenceOTU1194', 'New.CleanUp.ReferenceOTU1535', '567840', 'New.CleanUp.ReferenceOTU386', '1105552', '352482', '1034947', '1108830', '195651', '364805', '4460404', 'New.CleanUp.ReferenceOTU2821', '4366843', 'New.CleanUp.ReferenceOTU382', '579608', 'New.CleanUp.ReferenceOTU1865', '104265', '424038', '11296', '4431590', '4405100', '186633', '191442', '188820', '646549', 'New.CleanUp.ReferenceOTU1479', '2195', '2915091', '276867', '530224', '4437024', '944063', '524457', '1052559', '539819', '333166', '912669', '669098', '179200', 'New.CleanUp.ReferenceOTU1766', '925200', '300586', '43037', '4342704', 'New.CleanUp.ReferenceOTU1932', 'New.CleanUp.ReferenceOTU793', '386273', '329205', '3929758', 'New.CleanUp.ReferenceOTU1762', 'New.CleanUp.ReferenceOTU1262', '187882', '187883', '592160', '1106617', '341094', '4447605', '362094', '254476', '587804', '205241', 'New.CleanUp.ReferenceOTU2175', '90487', 'New.CleanUp.ReferenceOTU131', 'New.CleanUp.ReferenceOTU2178', '834366', 'New.CleanUp.ReferenceOTU2211', '850108', 'New.CleanUp.ReferenceOTU1921', '362078', '827969', '309720', '190312', '3089522', '363477', '885496', '1104733', '75279', '198783', '963216', '345172', '3323643', '589792', '822853', 'New.CleanUp.ReferenceOTU1936', '198788', '518065', 'New.CleanUp.ReferenceOTU493', '1042671', '851744', '1090458', '4412168', 'New.CleanUp.ReferenceOTU2112', '4394002', '4394001', '836573', '586458', 'New.CleanUp.ReferenceOTU710', '324532', 'New.CleanUp.ReferenceOTU502', '563572', '571375', 'New.CleanUp.ReferenceOTU496', '769961', '495419', '582075', '571178', '812902', '4437895', '175535', '4372581', '216643', '1121340', 'New.CleanUp.ReferenceOTU2361', 'New.CleanUp.ReferenceOTU2367', '891054', 'New.CleanUp.ReferenceOTU1813', 'New.CleanUp.ReferenceOTU1817', '736957', '895220', '269907', '4478861', '381899', 'New.CleanUp.ReferenceOTU883', '4366540', '584463', '2510539', '3887769', '975306', '268507', '288207', '194660', '538016', '196787', '572970', '1091016', '965853', '115315', '528606', '4355570', '4309301', '4300778', '207390', '299619', '822060', '584263', '236811', '4317631', '1088265', '787709', '451449', 'New.CleanUp.ReferenceOTU1434', 'New.CleanUp.ReferenceOTU715', 'New.CleanUp.ReferenceOTU2540', '311482', '398604', '180606', '335203', '39572', 'New.CleanUp.ReferenceOTU2784', 'New.CleanUp.ReferenceOTU2785', 'New.CleanUp.ReferenceOTU2787', 'New.CleanUp.ReferenceOTU2780', 'New.CleanUp.ReferenceOTU2788', '361727', '950922', '398192', 'New.CleanUp.ReferenceOTU2541', '941487', '89839', '3429470', '1108339', '181265', '555741', '165107', '103285', '688714', '562084', '177878', '585221', '585227', 'New.CleanUp.ReferenceOTU590', '181953', 'New.CleanUp.ReferenceOTU1173', '180771', '92535', '1097868', '272150', 'New.CleanUp.ReferenceOTU1114', '1090006', '722895', 'New.CleanUp.ReferenceOTU94', 'New.CleanUp.ReferenceOTU117', 'New.CleanUp.ReferenceOTU114', '4402254', 'New.CleanUp.ReferenceOTU683', 'New.CleanUp.ReferenceOTU1325', 'New.CleanUp.ReferenceOTU1117', 'New.CleanUp.ReferenceOTU686', 'New.CleanUp.ReferenceOTU1322', '524661', 'New.CleanUp.ReferenceOTU685', '866365', 'New.CleanUp.ReferenceOTU1498', 'New.CleanUp.ReferenceOTU1329', '334185', '1078207', 'New.CleanUp.ReferenceOTU377', '503389', 'New.CleanUp.ReferenceOTU375', '1065187', '188700', 'New.CleanUp.ReferenceOTU1113', '218885', '646129', '187271', '4406621', '813418', 'New.CleanUp.ReferenceOTU206', 'New.CleanUp.ReferenceOTU204', '573545', 'New.CleanUp.ReferenceOTU202', '730049', 'New.CleanUp.ReferenceOTU200', '359650', '206826', '352304', '318296', '735769', '355315', 'New.CleanUp.ReferenceOTU751', '554163', '60325', '505626', '155460', 'New.CleanUp.ReferenceOTU1148', '712179', '359689', '19611', '1040713', '544883', '882616', '192142', '189548', '2996799', '361864', '843459', '331859', '337511', '43339', '4295455', '721526', '813617', '839235', '767863', '833731', '1088134', 'New.CleanUp.ReferenceOTU1685', '4369489', '1085410', '878663', '810402', '1033018', '549682', '819027', '1013464', '60257', '529839', '835591', '2947337', '185734', '364903', '546371', 'New.CleanUp.ReferenceOTU899', '130232', '4392350', '320629', '193528', '351200', '580411', 'New.CleanUp.ReferenceOTU1407', '328340', '928766', 'New.CleanUp.ReferenceOTU598', '559527', '513445', '4326869', 'New.CleanUp.ReferenceOTU963', 'New.CleanUp.ReferenceOTU2145', '513440', '806201', '321972', '441155', '330923', '1122581', '195258', '1654477', '3849735', '585220', '185659', '4284495', '166076', 'New.CleanUp.ReferenceOTU595', '875704', '13463', '3230031', '4348768', '332317', 'New.CleanUp.ReferenceOTU1036', '454363', '326434', '1055322', '1077373', '536008', '3889756', '1146291', '4365143', 'New.CleanUp.ReferenceOTU2201', '9356', '70580', 'New.CleanUp.ReferenceOTU2208', 'New.CleanUp.ReferenceOTU1954', 'New.CleanUp.ReferenceOTU1171', '190309', '1077793', '191161', '519545', '270094', 'New.CleanUp.ReferenceOTU2588', 'New.CleanUp.ReferenceOTU1285', '247509', '636296', 'New.CleanUp.ReferenceOTU2422', '4303114', '112329', 'New.CleanUp.ReferenceOTU2719', '865469', '859157', '93000', '95168', '810167', '9510', '349257', 'New.CleanUp.ReferenceOTU2716', '300136', '1079481', '820346', '1022944', '70363', '536910', '198190', '4434564', '323778', '137056', 'New.CleanUp.ReferenceOTU1540', '4321397', 'New.CleanUp.ReferenceOTU2710', 'New.CleanUp.ReferenceOTU2030', '175509', '519673', 'New.CleanUp.ReferenceOTU293', '1086274', '544067', '108909', '519873', '198511', '215097', '484320', '715885', 'New.CleanUp.ReferenceOTU1976', '1944498', '408513', '1103871', 'New.CleanUp.ReferenceOTU298', '4345709', '931643', '10196', '194512', '564487', 'New.CleanUp.ReferenceOTU116', '537516', '768553', '363625', '198422', '4477696', '157772', '771050', '637901', '567669', '141365', 'New.CleanUp.ReferenceOTU682', '437599', '876714', '1107027', '2208658', '59574', '194672', '312586', '4443429', '92430', '298592', 'New.CleanUp.ReferenceOTU2557', '4385067', 'New.CleanUp.ReferenceOTU1088', '1039092', '517548', '907683', 'New.CleanUp.ReferenceOTU2346', '656517', 'New.CleanUp.ReferenceOTU2796', '4305201', '547181', 'New.CleanUp.ReferenceOTU2791', '4428998', '845273', 'New.CleanUp.ReferenceOTU2226', '180155', 'New.CleanUp.ReferenceOTU2799', '184386', '529652', 'New.CleanUp.ReferenceOTU1164', '1106733', '1108638', '916108', '83475', '1068363', 'New.CleanUp.ReferenceOTU1557', 'New.CleanUp.ReferenceOTU567', 'New.CleanUp.ReferenceOTU1003', '8281', '542644', 'New.CleanUp.ReferenceOTU569', 'New.CleanUp.ReferenceOTU1081', '511234', '709657', 'New.CleanUp.ReferenceOTU1009', '812921', '47791', '541354', '28246', '4344933', '1075307', '4310829', 'New.CleanUp.ReferenceOTU89', 'New.CleanUp.ReferenceOTU168', '992510', 'New.CleanUp.ReferenceOTU746', 'New.CleanUp.ReferenceOTU81', 'New.CleanUp.ReferenceOTU80', '548694', '1138934', '435512', '989579', '4290143', '180121', '344593', '110514', 'New.CleanUp.ReferenceOTU307', '968363', '4366522', '1040091', '326116', '677064', '365056', 'New.CleanUp.ReferenceOTU378', '1131894', 'New.CleanUp.ReferenceOTU308', 'New.CleanUp.ReferenceOTU1796', 'New.CleanUp.ReferenceOTU760', 'New.CleanUp.ReferenceOTU1795', 'New.CleanUp.ReferenceOTU1792', 'New.CleanUp.ReferenceOTU764', 'New.CleanUp.ReferenceOTU1422', '308057', '1074016', 'New.CleanUp.ReferenceOTU1798', 'New.CleanUp.ReferenceOTU276', 'New.CleanUp.ReferenceOTU2849', '207340', '801438', 'New.CleanUp.ReferenceOTU1247', '1039477', '131883', '366752', '241368', '2783638', 'New.CleanUp.ReferenceOTU1778', '614814', '988375', 'New.CleanUp.ReferenceOTU1774', '358944', '832674', '279948', '168583', 'New.CleanUp.ReferenceOTU949', '4044060', '257278', '344154', 'New.CleanUp.ReferenceOTU1178', '185034', '32581', 'New.CleanUp.ReferenceOTU411', '524725', 'New.CleanUp.ReferenceOTU945', '535901', 'New.CleanUp.ReferenceOTU946', '831585', '830290', '897109', '971907', '2414737', '3866487', '4339348', '4250634', '1099914', '368698', '4376649', '580312', '449856', 'New.CleanUp.ReferenceOTU756', '406064', '784415', '904882', '938794', 'New.CleanUp.ReferenceOTU1630', '514940', '593384', '305430', 'New.CleanUp.ReferenceOTU203', '583974', 'New.CleanUp.ReferenceOTU288', '4303981', '1133016', '922239', '192684', '104023', '806566', '235943', '2228', '192046', '4299445', '1091685', '2222', '366352', '1092833', '329820', '4345285', '244196', '527630', '181617', '635391', '187623', '903426', '155329', '820313', '499118', 'New.CleanUp.ReferenceOTU953', '4395175', 'New.CleanUp.ReferenceOTU2155', '4307006', '4433676', '4303213', '4376351', '556184', '534507', '128382', '1097208', '1058950', '833853', '544859', '1005952', '820086', 'New.CleanUp.ReferenceOTU1948', '514773', '2466322', 'New.CleanUp.ReferenceOTU1942', '197418', 'New.CleanUp.ReferenceOTU1940', 'New.CleanUp.ReferenceOTU1946', 'New.CleanUp.ReferenceOTU1945', 'New.CleanUp.ReferenceOTU1944', '812851', '84386', '1083037', '4323887', '824723', '818234', '817127', 'New.CleanUp.ReferenceOTU973', '321811', '9562', '189384', '345111', '48325', '340474', '2614328', '198184', '936752', '609533', 'New.CleanUp.ReferenceOTU1510', '159973', '1049387', 'New.CleanUp.ReferenceOTU2302', '752354', 'New.CleanUp.ReferenceOTU2305', 'New.CleanUp.ReferenceOTU2306', 'New.CleanUp.ReferenceOTU979', '4326635', '1033473', 'New.CleanUp.ReferenceOTU1470', 'New.CleanUp.ReferenceOTU1665', '846798', '530164', '357028', '217734', '146122', '875049', '582497', '654307', '621472', '243185', '1109623', '369182', '360238', '4425648', '545324', '4213913', '538368', '216599', '339087', '54330', '557100', '112867', 'New.CleanUp.ReferenceOTU1176', '179384', '155859', '157748', '195115', 'New.CleanUp.ReferenceOTU2415', '846464', 'New.CleanUp.ReferenceOTU37', '1029165', 'New.CleanUp.ReferenceOTU1147', '137827', '415160', '893041', '1560939', '3588390', '252345', '849118', '840795', '1023953', '656520', '568926', '517797', 'New.CleanUp.ReferenceOTU44', '4318356', 'New.CleanUp.ReferenceOTU2522', '183579', '3757252', 'New.CleanUp.ReferenceOTU2527', '998905', '353491', '672166', '190441', '4466616', 'New.CleanUp.ReferenceOTU1175', '347195', '195807', '276484', '232828', '195801', '4012414', '303161', 'New.CleanUp.ReferenceOTU1010', 'New.CleanUp.ReferenceOTU1545', '512148', 'New.CleanUp.ReferenceOTU575', '92512', '648540', 'New.CleanUp.ReferenceOTU1172', 'New.CleanUp.ReferenceOTU579', '1029949', '564806', 'New.CleanUp.ReferenceOTU1549', 'New.CleanUp.ReferenceOTU1548', '338140', '28702', '1040889', '561537', 'New.CleanUp.ReferenceOTU2634', '224212', '325808', 'New.CleanUp.ReferenceOTU2637', 'New.CleanUp.ReferenceOTU1398', 'New.CleanUp.ReferenceOTU2632', 'New.CleanUp.ReferenceOTU2633', 'New.CleanUp.ReferenceOTU72', '186478', '520413', 'New.CleanUp.ReferenceOTU178', 'New.CleanUp.ReferenceOTU74', 'New.CleanUp.ReferenceOTU75', 'New.CleanUp.ReferenceOTU174', '370046', '360015', 'New.CleanUp.ReferenceOTU170', 'New.CleanUp.ReferenceOTU172', '1010163', '1084417', 'New.CleanUp.ReferenceOTU1039', 'New.CleanUp.ReferenceOTU30', '253167', '811257', '201772', '722854', '561452', '535872', '1921813', 'New.CleanUp.ReferenceOTU1304', '4278525', 'New.CleanUp.ReferenceOTU1300', '319275', 'New.CleanUp.ReferenceOTU1783', '1047077', '298942', '1047075', 'New.CleanUp.ReferenceOTU1789', '7764', '1075821', '339566', '342928', 'New.CleanUp.ReferenceOTU2565', '189708', '580090', '1060029', '1082607', '187051', '239128', 'New.CleanUp.ReferenceOTU798', '183817', '3907', '999477', 'New.CleanUp.ReferenceOTU791', '988385', '2430693', 'New.CleanUp.ReferenceOTU795', 'New.CleanUp.ReferenceOTU1761', 'New.CleanUp.ReferenceOTU1760', 'New.CleanUp.ReferenceOTU1169', 'New.CleanUp.ReferenceOTU409', '838293', '282561', 'New.CleanUp.ReferenceOTU977', 'New.CleanUp.ReferenceOTU957', '915452', 'New.CleanUp.ReferenceOTU404', '189524', 'New.CleanUp.ReferenceOTU1167', '813272', '4323390', '93175', '4454586', '4339351', '4245392', '840961', '352215', '5808', '2876801', '988542', '2438203', '354334', '4437011', '1141987', '3671383', '4450377', '697479', '544996', '73324', '778478', '1021820', 'New.CleanUp.ReferenceOTU2094', 'New.CleanUp.ReferenceOTU2095', 'New.CleanUp.ReferenceOTU2097', '302663', '7184', '889025', '539820', '4331575', '593803', '186891', '780650', '499109', '376876', 'New.CleanUp.ReferenceOTU1581', '937813', '531206', 'New.CleanUp.ReferenceOTU1475', '436998', '308956', 'New.CleanUp.ReferenceOTU2252', '1870447', '555338', '544847', '544841', '905211', '545862', '929901', '682726', '820091', 'New.CleanUp.ReferenceOTU1973', 'New.CleanUp.ReferenceOTU1970', '4404220', '4402610', 'New.CleanUp.ReferenceOTU1622', '3055791', '835594', '835900', '741701', '320553', '916529', '627230', '173917', 'New.CleanUp.ReferenceOTU632', '531374', '365891', '759061', '828667', '545487', 'New.CleanUp.ReferenceOTU1427', '515169', '759916', '548961', '3221156', 'New.CleanUp.ReferenceOTU636', 'New.CleanUp.ReferenceOTU2319', '1033380', '708680', '345637', '851715', 'New.CleanUp.ReferenceOTU2311', '851865', '808486', '513080', 'New.CleanUp.ReferenceOTU2315', '626495', '888055', '1109650', '197537', '671156', 'New.CleanUp.ReferenceOTU1057', '168817', '198530', '195052', '362991', '808372', '582379', '1096010', '297111', '568118', '679014', '320395', '1011954', '211907', '3218290', '412392', '4410807', '71146', '565357', '1007926', '851668', '324677', '1565317', '4422456', 'New.CleanUp.ReferenceOTU1454', '1053775', 'New.CleanUp.ReferenceOTU529', '403318', 'New.CleanUp.ReferenceOTU1996', '137818', '197624', 'New.CleanUp.ReferenceOTU2407', 'New.CleanUp.ReferenceOTU527', 'New.CleanUp.ReferenceOTU2405', '828043', '4458959', 'New.CleanUp.ReferenceOTU2401', 'New.CleanUp.ReferenceOTU1458', '2954730', '1067006', '109414', '620319', '724271', '514086', '699027', '4318869', '840419', 'New.CleanUp.ReferenceOTU1516', 'New.CleanUp.ReferenceOTU1816', '316335', '918389', '4310192', 'New.CleanUp.ReferenceOTU2532', '189866', 'New.CleanUp.ReferenceOTU2530', 'New.CleanUp.ReferenceOTU1154', 'New.CleanUp.ReferenceOTU2534', '291090', 'New.CleanUp.ReferenceOTU2539', '1028953', '99619', '182184', '211706', '470382', '930592', '3723096', '1000250', 'New.CleanUp.ReferenceOTU545', '526490', 'New.CleanUp.ReferenceOTU541', 'New.CleanUp.ReferenceOTU543', '370183', '365415', 'New.CleanUp.ReferenceOTU548', '3203801', '143386', '557842', '353577', '983098', '787663', '350563', '556247', 'New.CleanUp.ReferenceOTU2263', '238220', 'New.CleanUp.ReferenceOTU66', 'New.CleanUp.ReferenceOTU149', '2472603', '188735', '338191', 'New.CleanUp.ReferenceOTU2411', '196219', '811263', 'New.CleanUp.ReferenceOTU1371', '1011712', '1108275', '326136', 'New.CleanUp.ReferenceOTU1376', '4353251', '221454', 'New.CleanUp.ReferenceOTU2406', '907241', '570988', '921101', '195123', '352733', '297334', '335071', '214611', '1134371', '594040', 'New.CleanUp.ReferenceOTU1206', 'New.CleanUp.ReferenceOTU1200', 'New.CleanUp.ReferenceOTU1202', 'New.CleanUp.ReferenceOTU1753', 'New.CleanUp.ReferenceOTU1751', '254469', '425968', '1078527', '1060565', 'New.CleanUp.ReferenceOTU439', 'New.CleanUp.ReferenceOTU1191', '563369', 'New.CleanUp.ReferenceOTU436', 'New.CleanUp.ReferenceOTU1199', '337083', 'New.CleanUp.ReferenceOTU432', 'New.CleanUp.ReferenceOTU328', '195619', '197988', '529873', 'New.CleanUp.ReferenceOTU456', '350121', 'New.CleanUp.ReferenceOTU323', '582973', '2875735', 'New.CleanUp.ReferenceOTU327', '4256470', '554346', '628226', '213394', '28118', 'New.CleanUp.ReferenceOTU452', '195556', '1141995', '4455887', '177150', '4400134', '332929', '316924', '4307391', '4306157', 'New.CleanUp.ReferenceOTU2083', '1995363', 'New.CleanUp.ReferenceOTU2081', 'New.CleanUp.ReferenceOTU2080', '977222', '525942', 'New.CleanUp.ReferenceOTU2065', '250135', '623518', '843553', '561885', 'New.CleanUp.ReferenceOTU823', '689528', '579731', '4424239', '1074210', '4297119', '348065', '1105814', 'New.CleanUp.ReferenceOTU594', '821930', 'New.CleanUp.ReferenceOTU738', '1143681', '335818', '816789', '187841', '2920309', '190815', '357471', '195465', '4440191', '949062', '829266', '345354', 'New.CleanUp.ReferenceOTU1960', '553648', 'New.CleanUp.ReferenceOTU1965', 'New.CleanUp.ReferenceOTU1964', '514974', '427183', '790545', '828676', '570507', '934651', '4457086', '246575', '301578', '580585', '4349934', '1033754', '589597', 'New.CleanUp.ReferenceOTU1898', '362327', '1077185', '113265', 'New.CleanUp.ReferenceOTU2325', '146094', 'New.CleanUp.ReferenceOTU2321', '512239', '512238', '573976', '3585003', '2949144', '1931', '2981474', '4320462', '2654263', '928538', '338992', '827497', '809544', '321721', '927089', '1077496', '923098', 'New.CleanUp.ReferenceOTU1804', '113607', '1981833', '865782', '4448731', '251702', '314095', '1049071', '4328241', '4462083', '608377', '4443276', '960131', '3805726', 'New.CleanUp.ReferenceOTU858', '676066', '903886', 'New.CleanUp.ReferenceOTU1648', '798097', '514996', '4333666', '526833', '107484', '1566691', 'New.CleanUp.ReferenceOTU1988', 'New.CleanUp.ReferenceOTU1987', '339015', '538093', '4333668', '339013', 'New.CleanUp.ReferenceOTU2432', '1076587', '2291414', '583425', '437105', '341322', 'New.CleanUp.ReferenceOTU1124', '809380', '291846', '184000', '384716', '369097', '584516', '4419380', '672144', '553208', '194425', '191908', '225569', '1068572', '352164', '725402', '820843', '4301737', '640521', '979707', '1111294', '4343672', '1029036', '60771', '4336892', 'New.CleanUp.ReferenceOTU2508', 'New.CleanUp.ReferenceOTU2509', '941024', 'New.CleanUp.ReferenceOTU2507', 'New.CleanUp.ReferenceOTU2504', '585914', '4397098', '809583', '4435065', '188127', '3334374', '350337', '862115', '848315', '1007599', '291202', '876170', '95256', '935040', '4353801', '940737', '4319587', 'New.CleanUp.ReferenceOTU2762', '108084', 'New.CleanUp.ReferenceOTU2618', '4310500', '879972', 'New.CleanUp.ReferenceOTU2617', 'New.CleanUp.ReferenceOTU157', '284241', '976470', 'New.CleanUp.ReferenceOTU151', '388763', 'New.CleanUp.ReferenceOTU58', 'New.CleanUp.ReferenceOTU59', 'New.CleanUp.ReferenceOTU159', '3251419', '526131', '2979308', '361966', '307611', '319097', '527840', '343503', '1068955', '370736', 'New.CleanUp.ReferenceOTU1362', 'New.CleanUp.ReferenceOTU1360', '3454566', 'New.CleanUp.ReferenceOTU1365', '30929', '352347', '1105574', '355424', 'New.CleanUp.ReferenceOTU1565', 'New.CleanUp.ReferenceOTU550', '4297271', '609964', '748636', 'New.CleanUp.ReferenceOTU1563', 'New.CleanUp.ReferenceOTU555', '38227', 'New.CleanUp.ReferenceOTU1031', '953256', '4386761', 'New.CleanUp.ReferenceOTU1741', '979761', 'New.CleanUp.ReferenceOTU1742', '2480553', '279910', '925326', 'New.CleanUp.ReferenceOTU1748', 'New.CleanUp.ReferenceOTU1219', '189292', 'New.CleanUp.ReferenceOTU1184', 'New.CleanUp.ReferenceOTU426', '842786', 'New.CleanUp.ReferenceOTU424', 'New.CleanUp.ReferenceOTU1180', '813781', '446153', 'New.CleanUp.ReferenceOTU428', '239362', 'New.CleanUp.ReferenceOTU1189', '366237', '758418', '674655', '3611664', 'New.CleanUp.ReferenceOTU889', 'New.CleanUp.ReferenceOTU1692', '688133', 'New.CleanUp.ReferenceOTU332', 'New.CleanUp.ReferenceOTU333', '258099', '180110', '361170', '276106', '1061772', '213885', '589123', '967720', '301149', '949659', '192070', '562367', '25695', '369429', '4302049', '382219', 'New.CleanUp.ReferenceOTU2747', '4383918', '1103501', '1135830', 'New.CleanUp.ReferenceOTU2626', '369953', '150673', 'New.CleanUp.ReferenceOTU1369', '220524', 'New.CleanUp.ReferenceOTU2189', '1083194', '357261', '266211', '200629', '3394073', '947112', '99960', '4357811', '4370726', 'New.CleanUp.ReferenceOTU2168', '956334', '573035', 'New.CleanUp.ReferenceOTU2655', '581079', '328544', '526983', '187582', '1135161', '499019', '128353', '802899', '280480', '4014120', '358461', '505311', 'New.CleanUp.ReferenceOTU2310', '3913171', '204126', '632387', '1733364', '134265', '13332', '74330', '212532', '4458619', '1866742', '654665', 'New.CleanUp.ReferenceOTU2057', '300378', '709971', '197517', '14030', '989109', 'New.CleanUp.ReferenceOTU2339', '203466', '1003206', '558276', '579304', '3229180', '824606', 'New.CleanUp.ReferenceOTU1823', '338987', '338980', 'New.CleanUp.ReferenceOTU1072', '249975', 'New.CleanUp.ReferenceOTU2800', '567715', 'New.CleanUp.ReferenceOTU2276', '186328', '1137873', '4318989', '4331006', '185988', '2198172', '362539', '198067', '856920', '536866', '2859978', '1855596', 'New.CleanUp.ReferenceOTU2424', 'New.CleanUp.ReferenceOTU2273', '1111191', 'New.CleanUp.ReferenceOTU2013', '388951', '186352', '513757', '870751', '610107', 'New.CleanUp.ReferenceOTU745', '862190', '246387', '1749079', '193233', '495001', '586066', '11439', '534204', '464694', '359750', '567622', '1129425', '138346', '503394', '851935', '826512', '960871', '851938', '3678349', '179358', '914364', '996126', '1098434', '4337383', '191919', '369227', '4296080', '589329', '552849', '367879', '368318', 'New.CleanUp.ReferenceOTU1276', '4442170', '256046', '4330462', '4296242', 'New.CleanUp.ReferenceOTU2519', '489671', '828333', 'New.CleanUp.ReferenceOTU2511', '3940440', 'New.CleanUp.ReferenceOTU2515', '656307', '1063810', '563764', 'New.CleanUp.ReferenceOTU41', '1010458', '41128', '344525', 'New.CleanUp.ReferenceOTU1478', '930555', '581003', '1012358', '997942', '1918929', '575688', '196553', 'New.CleanUp.ReferenceOTU2600', '194727', '804621', 'New.CleanUp.ReferenceOTU2609', '208790', '976441', '766989', '340995', '1000876', '769643', '268353', '970318', '318338', 'New.CleanUp.ReferenceOTU667', '266777', '575305', '1080980', '184214', '1133976', '970138', 'New.CleanUp.ReferenceOTU630', 'New.CleanUp.ReferenceOTU1352', '337538', '461795', '370098', 'New.CleanUp.ReferenceOTU184', 'New.CleanUp.ReferenceOTU187', '197367', 'New.CleanUp.ReferenceOTU1358', 'New.CleanUp.ReferenceOTU1359', '502999', '532569', '4428060', '580539', 'New.CleanUp.ReferenceOTU1511', '197164', 'New.CleanUp.ReferenceOTU523', 'New.CleanUp.ReferenceOTU1515', '929312', '823745', '2621271', '4397087', '792574', '4459356', 'New.CleanUp.ReferenceOTU1223', 'New.CleanUp.ReferenceOTU1733', 'New.CleanUp.ReferenceOTU1226', 'New.CleanUp.ReferenceOTU1225', 'New.CleanUp.ReferenceOTU1738', '915428', 'New.CleanUp.ReferenceOTU1228', '32546', '811516', '289709', '576759', '590586', '946344', '410855', '1132235', '1107335', '341953', '836783', 'New.CleanUp.ReferenceOTU989', 'New.CleanUp.ReferenceOTU458', '861807', '462461', '624542', '589277', '445962', '580629', '4354477', 'New.CleanUp.ReferenceOTU1876', '580625', '975335', '952203', '3453734', '197943', '2750874', 'New.CleanUp.ReferenceOTU1', 'New.CleanUp.ReferenceOTU1640', '616682', '504674', '571458', '1682863', '589114', 'New.CleanUp.ReferenceOTU1617', '562376', '329865', '81130', 'New.CleanUp.ReferenceOTU2111', '2198356', '991785', 'New.CleanUp.ReferenceOTU1614', '760913', '816090', '2647328', '355361', '308502', '4475022', '791522', '1033687', '305278', '4437422', '316560', '922397', 'New.CleanUp.ReferenceOTU1209', '184753', 'New.CleanUp.ReferenceOTU2804', '2901970', 'New.CleanUp.ReferenceOTU2194', '4358566', '348866', '1106060', '4449244', '842193', '964989', '975874', '539941', '191359', '878161', '4387396', '1092300', '1508541', '193666', 'New.CleanUp.ReferenceOTU487', '557799', '4440404', '4398614', 'New.CleanUp.ReferenceOTU6', '683178', 'New.CleanUp.ReferenceOTU5', '756973', '1125242', '1057116', 'New.CleanUp.ReferenceOTU1593', '2797395', '888300', '534926', '534922', '196947', '267557', '349024', 'New.CleanUp.ReferenceOTU2048', 'New.CleanUp.ReferenceOTU2045', 'New.CleanUp.ReferenceOTU2043', '192625', 'New.CleanUp.ReferenceOTU625', '256215', '113715', '587534', '187489', '3035626', '551822', '1105343', '717565', '4451251', '336830', '1084865', '182176', '2469654', '531436', '823809', '185405', '71331', '4299137', '4299136', '4464810', '3154070', '542096', '587227', '350865', '1051082', '2024840', '198071', '3272632', 'New.CleanUp.ReferenceOTU893', 'New.CleanUp.ReferenceOTU2452', '343089', '2714250', '309940', '495017', '513767', '14157', '610111', 'New.CleanUp.ReferenceOTU890', '194670', '4258048', '342375', '509416', '176591', '3592276', '363305', 'New.CleanUp.ReferenceOTU2298', 'New.CleanUp.ReferenceOTU2299', '724665', 'New.CleanUp.ReferenceOTU2294', '410688', '44151', '164471', '505549', '3141342', 'New.CleanUp.ReferenceOTU2554', '584571', '331571', '4435664', '851923', '268361', '2086000', '931708', 'New.CleanUp.ReferenceOTU1014', '996116', '1039041', '900973', '197708', '157327', '4427517', '824839', '367688', '322505', '172296', '158804', '548576', '660633', '435928', '588197', 'New.CleanUp.ReferenceOTU2497', '280567', '584375', '177011', '1084182', 'New.CleanUp.ReferenceOTU34', 'New.CleanUp.ReferenceOTU35', '239761', 'New.CleanUp.ReferenceOTU33', '590356', '187126', '109591', '585480', '935060', 'New.CleanUp.ReferenceOTU2671', '4407554', 'New.CleanUp.ReferenceOTU2677', '332486', '533373', '183480', '4380039', '970302', '560535', 'New.CleanUp.ReferenceOTU310', '234488', '174288', '4320756', '495270', 'New.CleanUp.ReferenceOTU1104', '583746', 'New.CleanUp.ReferenceOTU1103', '984924', '1037111', '643126', '239506', '829851', 'New.CleanUp.ReferenceOTU1435', '655531', 'New.CleanUp.ReferenceOTU624', 'New.CleanUp.ReferenceOTU197', 'New.CleanUp.ReferenceOTU626', '143131', 'New.CleanUp.ReferenceOTU628', '184209', '4296987', 'New.CleanUp.ReferenceOTU1438', '4330852', '1081614', 'New.CleanUp.ReferenceOTU1509', '804526', '851323', 'New.CleanUp.ReferenceOTU1503', '1000592', 'New.CleanUp.ReferenceOTU530', 'New.CleanUp.ReferenceOTU532', '363358', '72964', '4296059', '1010721', '355750', 'New.CleanUp.ReferenceOTU1721', 'New.CleanUp.ReferenceOTU1720', '174862', '1010329', '711843', 'New.CleanUp.ReferenceOTU444', 'New.CleanUp.ReferenceOTU445', '803166', 'New.CleanUp.ReferenceOTU440', '582921', '552687', '543942', '199256', '1069592', '3478707', '562008', '844006', '298853', '183662', '1027587', '4354486', '354574', '377874', '882788', 'New.CleanUp.ReferenceOTU848', '714766', '177343', '199702', '611931', 'New.CleanUp.ReferenceOTU1654', 'New.CleanUp.ReferenceOTU845', 'New.CleanUp.ReferenceOTU1986', '515747', '4297838', '351979', '361871', 'New.CleanUp.ReferenceOTU898', '918840', '248434', '817507', 'New.CleanUp.ReferenceOTU688', '1906483', '592866', 'New.CleanUp.ReferenceOTU994', 'New.CleanUp.ReferenceOTU1915', '553623', 'New.CleanUp.ReferenceOTU457', '293191', '2627856', 'New.CleanUp.ReferenceOTU1551', '353292', '4330071', '1927234', '521851', '277143', '2901960', '4455386', '589071', '336364', '108729', '193654', '114621', '4312969', '4356641', '549635', '184567', '139504', '184561', '581019', 'New.CleanUp.ReferenceOTU1567', 'New.CleanUp.ReferenceOTU2296', '205148', '240087', '931950', '4347099', 'New.CleanUp.ReferenceOTU1520', 'New.CleanUp.ReferenceOTU1351', '1110021', '240268', '355774', '1048194', '12589', 'New.CleanUp.ReferenceOTU1525', 'New.CleanUp.ReferenceOTU2457', '617145', '358483', '530206', '693348', '1101451', 'New.CleanUp.ReferenceOTU873', '818461', '4411138', '36255', '669486', 'New.CleanUp.ReferenceOTU453', '295804', '4295743', '151172', '732609', 'New.CleanUp.ReferenceOTU1757', 'New.CleanUp.ReferenceOTU1102', '192634', 'New.CleanUp.ReferenceOTU2075', 'New.CleanUp.ReferenceOTU1887', 'New.CleanUp.ReferenceOTU1885', 'New.CleanUp.ReferenceOTU1880', 'New.CleanUp.ReferenceOTU1881', '790466', '927328', '362172', '904345', '4315097', '537894', '176297', 'New.CleanUp.ReferenceOTU740', '579328', '774918', '38888', '4387838', 'New.CleanUp.ReferenceOTU287', '470724', '734945', '221365', 'New.CleanUp.ReferenceOTU451', 'New.CleanUp.ReferenceOTU284', '199245', '199710', '199716', '4456499', '182886', '996923', '996434', '192258', '113347', '824146', 'New.CleanUp.ReferenceOTU169', '4443201', '963779', '2714267', '4029584', '4217963', '938948', '689950', '879040', '2589305', '367213', '367215', '194372', '1139524', '4307464', '2061739', '182036', '711275', '198449', '3171078', '851822', 'New.CleanUp.ReferenceOTU2288', '4328364', '851824', 'New.CleanUp.ReferenceOTU2281', '949789', '1069816', '4298899', '265871', '935278', '960076', '804735', '1017181', 'New.CleanUp.ReferenceOTU1868', '463361', 'New.CleanUp.ReferenceOTU1867', 'New.CleanUp.ReferenceOTU1861', 'New.CleanUp.ReferenceOTU1863', '583398', '3638321', '591699', '4340653', '4390972', '233052', '585708', '955582', '350697', '585701', '192839', 'New.CleanUp.ReferenceOTU26', 'New.CleanUp.ReferenceOTU306', 'New.CleanUp.ReferenceOTU20', '3890155', '811449', '4368600', '311522', '544480', '129642', 'New.CleanUp.ReferenceOTU2660', 'New.CleanUp.ReferenceOTU2667', '4201971', '4325533', 'New.CleanUp.ReferenceOTU304', '4369434', '864640', '955102', 'New.CleanUp.ReferenceOTU303', 'New.CleanUp.ReferenceOTU2291', '225487', '1696853', 'New.CleanUp.ReferenceOTU2384', '350273', '4365567', '195946', '4416763', '4402735', '961922', '4432435', 'New.CleanUp.ReferenceOTU1402', '232900', '548032', 'New.CleanUp.ReferenceOTU1406', 'New.CleanUp.ReferenceOTU610', 'New.CleanUp.ReferenceOTU1404', 'New.CleanUp.ReferenceOTU612', 'New.CleanUp.ReferenceOTU618', '1110763', '4332202', '15186', '4428042', 'New.CleanUp.ReferenceOTU504', 'New.CleanUp.ReferenceOTU507', 'New.CleanUp.ReferenceOTU2718', 'New.CleanUp.ReferenceOTU264', 'New.CleanUp.ReferenceOTU2712', 'New.CleanUp.ReferenceOTU1538', 'New.CleanUp.ReferenceOTU1539', '4322712', '749837', 'New.CleanUp.ReferenceOTU294', 'New.CleanUp.ReferenceOTU299', '4417749', 'New.CleanUp.ReferenceOTU1971', '4381723', 'New.CleanUp.ReferenceOTU2386', '4296512', '4296513', '2331530', '91834', '843357', '287032', 'New.CleanUp.ReferenceOTU1840', 'New.CleanUp.ReferenceOTU1084', '819729', '214036', '358104', 'New.CleanUp.ReferenceOTU1248', '581248', 'New.CleanUp.ReferenceOTU2842', '267759', '1069076', '326662', 'New.CleanUp.ReferenceOTU271', 'New.CleanUp.ReferenceOTU1715', 'New.CleanUp.ReferenceOTU1244', '193466', 'New.CleanUp.ReferenceOTU275', 'New.CleanUp.ReferenceOTU274', '273239', '858667', '4391625', '562038', '114292', '82007', '841344', '2424449', '869089', '4301298', '92231', '150994', '4354493', '181239', 'New.CleanUp.ReferenceOTU1669', 'New.CleanUp.ReferenceOTU1725', '214450', 'New.CleanUp.ReferenceOTU1662', '521268', '154693', 'New.CleanUp.ReferenceOTU876', 'New.CleanUp.ReferenceOTU1666', '197924', '1101669', '546876', '88754', 'New.CleanUp.ReferenceOTU604', '712677', '765762', 'New.CleanUp.ReferenceOTU695', 'New.CleanUp.ReferenceOTU2723', '4392457', '114396', '114587', 'New.CleanUp.ReferenceOTU471', '561607', '370964', '822419', 'New.CleanUp.ReferenceOTU474', 'New.CleanUp.ReferenceOTU477', '4174963', '503174', 'New.CleanUp.ReferenceOTU1969', '262095', '952171', '1111968', '594001', '1066814', '1004910', '372368', '353285', '4359834', '348027', '686789', '546567', 'New.CleanUp.ReferenceOTU2721', 'New.CleanUp.ReferenceOTU1845', '396697', '731707', '968675', '293511', '874462', '560886', '1065974', 'New.CleanUp.ReferenceOTU1254', '1078587', '766214', '227565', '4427030', '240271', '227344', '963344', '362765', '140966', '186955', '1059729', '396187', '324217', '550219', '339934', '254099', '410048', 'New.CleanUp.ReferenceOTU235', '661259', '575028', 'New.CleanUp.ReferenceOTU1673', '1097359', '210647', '754684', '42091', '81664', '4315069', 'New.CleanUp.ReferenceOTU2063', 'New.CleanUp.ReferenceOTU2062', 'New.CleanUp.ReferenceOTU2068', '818369', '4395661', '70628', '564704', 'New.CleanUp.ReferenceOTU1679', '3154123', '3225199', '359149', '195086', '1646255', '808852', '188126', '1106471', '633252', '1646259', '3825935', '1106674', '138179', '557627', '1009173', '340761', '4414044', '1142938', '4444200', '14177', '546343', 'New.CleanUp.ReferenceOTU2470', '367995', '851630', 'New.CleanUp.ReferenceOTU1718', '851634', '1092725', '186030', '314582', '531539', '561171', '936454', '788268', '582083', 'New.CleanUp.ReferenceOTU942', '4399781', '168289', '4325275', '197490', '780555', '4325272', '174818', '193867', 'New.CleanUp.ReferenceOTU2275', '4362556', '193863', '814176', '4395068', '583656', '453616', '360329', '4298880', '826076', '522025', '197725', '317108', '112997', '367535', '112992', '4349518', '529740', '979941', 'New.CleanUp.ReferenceOTU2382', '388506', '663885', '332718', 'New.CleanUp.ReferenceOTU2388', '334699', '781371', '583388', '846710', '196125', '4308098', '243129', '323231', '4326573', '4296858', '83011', 'New.CleanUp.ReferenceOTU16', 'New.CleanUp.ReferenceOTU17', '4235445', 'New.CleanUp.ReferenceOTU2741', '941896', '966903', '4409545', '569584', '1085832', '1108959', '4425150', 'New.CleanUp.ReferenceOTU2322', '360432', 'New.CleanUp.ReferenceOTU2338', '811187', 'New.CleanUp.ReferenceOTU2248', 'New.CleanUp.ReferenceOTU1526', '406145', '301921', 'New.CleanUp.ReferenceOTU2498', '355975', 'New.CleanUp.ReferenceOTU2496', '4350387', 'New.CleanUp.ReferenceOTU1387', '4397500', '336947', '189920', 'New.CleanUp.ReferenceOTU2656', '2171537', 'New.CleanUp.ReferenceOTU2654', '4369743', 'New.CleanUp.ReferenceOTU2651', '365372', '1015227', '887706', '73760', '537062', '360500', '87442', '851704', '360508', '913340', '1056382', 'New.CleanUp.ReferenceOTU517', '92131', '642525', '545299', '960682', '291648', 'New.CleanUp.ReferenceOTU1528', '1103964', '183049', 'New.CleanUp.ReferenceOTU518', '526682', '1098634', '749805', '4432042', '591223', '984831', '591221', 'New.CleanUp.ReferenceOTU289', 'New.CleanUp.ReferenceOTU1091', '1754506', '158047', '318763', '1065569', 'New.CleanUp.ReferenceOTU1097', 'New.CleanUp.ReferenceOTU268', 'New.CleanUp.ReferenceOTU1708', 'New.CleanUp.ReferenceOTU1258', '1080820', '268812', 'New.CleanUp.ReferenceOTU1701', '4326647', 'New.CleanUp.ReferenceOTU262', 'New.CleanUp.ReferenceOTU1702', '185222', '1108886', 'New.CleanUp.ReferenceOTU2475', '3393186', 'New.CleanUp.ReferenceOTU602', 'New.CleanUp.ReferenceOTU1417', '878129', 'New.CleanUp.ReferenceOTU1411', '181422', '367092', '843920', '370287', '575630', '4306852', 'New.CleanUp.ReferenceOTU1432', '292908', 'New.CleanUp.ReferenceOTU1676', 'New.CleanUp.ReferenceOTU866', '127065', '3028273', 'New.CleanUp.ReferenceOTU1242', '189438', '4441545', 'New.CleanUp.ReferenceOTU1678', 'New.CleanUp.ReferenceOTU1874', '532743', '1060621', 'New.CleanUp.ReferenceOTU1643', '4435784', '838837', '4331723', '369668', 'New.CleanUp.ReferenceOTU465', '366584', '999362', '593043', 'New.CleanUp.ReferenceOTU1382', '576785', '4335578', '687649', '942852', '261558', '937954', '589010', '467605', '304047', '4472240', '245980', '870034', '182799', '542211', '4386920', '255859', '181204', '952388', '969591', '348304', '253214', 'New.CleanUp.ReferenceOTU1035', '1090029', '586093', 'New.CleanUp.ReferenceOTU1912', '3847840', '617766', '4391913', '186968', '240049', '191412', '339439', '315429', '571263', '1679707', '337010', 'New.CleanUp.ReferenceOTU1340', '745482', '535196', '369486', '4483037', '545996', 'New.CleanUp.ReferenceOTU1342', '270659', '565822', '4295763', '573179', '254145', '537661', '1052930', '345454', '4348101', '569912', '506496', '4458736', '63015', '727462', '806568', '4295788', '181756', '256447', '2224378', 'New.CleanUp.ReferenceOTU1025', '246850', '141821', 'New.CleanUp.ReferenceOTU2128', '1062748', '13485', '173863', 'New.CleanUp.ReferenceOTU2123', '367232', 'New.CleanUp.ReferenceOTU2463', 'New.CleanUp.ReferenceOTU2464', 'New.CleanUp.ReferenceOTU2467', 'New.CleanUp.ReferenceOTU2466', 'New.CleanUp.ReferenceOTU2468', '363731', '586968', '4314749', '363735', 'New.CleanUp.ReferenceOTU2345', 'New.CleanUp.ReferenceOTU1771', '191222', 'New.CleanUp.ReferenceOTU970', 'New.CleanUp.ReferenceOTU854', '246717', '2470350', '570350', '1090978', '655803', '2046330', '188887', '578016', '188881', '535375', '198119', '564081', '589124', '363646', 'New.CleanUp.ReferenceOTU244', 'New.CleanUp.ReferenceOTU2700', 'New.CleanUp.ReferenceOTU1281', '1002005', '364180', 'New.CleanUp.ReferenceOTU2702', '667570', '122517', '246078', '3506872', 'New.CleanUp.ReferenceOTU2393', '676761', 'New.CleanUp.ReferenceOTU1849', '4329788', 'New.CleanUp.ReferenceOTU1983', '219189', 'New.CleanUp.ReferenceOTU1846', '208972', 'New.CleanUp.ReferenceOTU1844', '1110317', '812971', '984572', '313593', '269774', '2710761', '367790', '543740', '179402', '2372755', '814909', '182874', '21795', 'New.CleanUp.ReferenceOTU2091', '179796', '187178', '3581175', '941096', '4310208', '1084045', 'New.CleanUp.ReferenceOTU2489', '4318217', '1115682', '650615', '228601', '567406', 'New.CleanUp.ReferenceOTU2648', '186963', '112764', 'New.CleanUp.ReferenceOTU2640', '2171541', 'New.CleanUp.ReferenceOTU2645', 'New.CleanUp.ReferenceOTU1985', '226626', '375067', '212686', '1068470', '73753', '356760', '640641', '3936243', '4360128', '574689', '565136', '1000547', '702181', 'New.CleanUp.ReferenceOTU1980', 'New.CleanUp.ReferenceOTU2731', 'New.CleanUp.ReferenceOTU1332', '1015969', 'New.CleanUp.ReferenceOTU2739', '5547', '205904', '1107760', '746873', '547327', '549823', '979315', '359872', '4418496', '557974', '336710', 'New.CleanUp.ReferenceOTU1764', '1051669', '838594', '229949', 'New.CleanUp.ReferenceOTU701', 'New.CleanUp.ReferenceOTU707', '545772', '193240', 'New.CleanUp.ReferenceOTU254', 'New.CleanUp.ReferenceOTU709', '188316', 'New.CleanUp.ReferenceOTU251', '815480', 'New.CleanUp.ReferenceOTU1269', '1088305', 'New.CleanUp.ReferenceOTU1469', '759751', '403701', 'New.CleanUp.ReferenceOTU2855', '935742', 'New.CleanUp.ReferenceOTU1461', '181927', '1039584', 'New.CleanUp.ReferenceOTU1464', '190913', '12574', 'New.CleanUp.ReferenceOTU1467', '503372', '4361727', 'New.CleanUp.ReferenceOTU389', '3319464', 'New.CleanUp.ReferenceOTU383', '298862', 'New.CleanUp.ReferenceOTU369', 'New.CleanUp.ReferenceOTU1603', 'New.CleanUp.ReferenceOTU1609', '349786', '3874043', '551749', '567974', '258375', '336627', '577170', '1787644', '1111944', '2213383', 'New.CleanUp.ReferenceOTU497', '585989', '792073', 'New.CleanUp.ReferenceOTU2011', 'New.CleanUp.ReferenceOTU2865', '519398', '1023075', '249391', '523140', '304211', 'New.CleanUp.ReferenceOTU363', '4453773', '616310', '503197', '183870', '183873', 'New.CleanUp.ReferenceOTU928', '3390534', 'New.CleanUp.ReferenceOTU1119', '407609', 'New.CleanUp.ReferenceOTU922', 'New.CleanUp.ReferenceOTU920', 'New.CleanUp.ReferenceOTU927', 'New.CleanUp.ReferenceOTU1111', 'New.CleanUp.ReferenceOTU924', '988314', '978664', '360635', '300432', '359120', 'New.CleanUp.ReferenceOTU2019', '130663', 'New.CleanUp.ReferenceOTU1562', 'New.CleanUp.ReferenceOTU1763', '311035', '1091321', '1097113', '846141', 'New.CleanUp.ReferenceOTU2827', '968954', '2057787', '1020410', '565900', '2914680', '861621', '581286', '358386', '300829', 'New.CleanUp.ReferenceOTU1286', 'New.CleanUp.ReferenceOTU1280', '581821', 'New.CleanUp.ReferenceOTU1282', '4344228', '1009440', '4426298', '4130483', 'New.CleanUp.ReferenceOTU742', '1142263', '922761', 'New.CleanUp.ReferenceOTU2575', 'New.CleanUp.ReferenceOTU216', '562825', '942534', '1053898', '554086', '3410999', '4403854', '4289139', '362342', '240451', 'New.CleanUp.ReferenceOTU2051', '573110', '578911', '348009', '4447993', 'New.CleanUp.ReferenceOTU1941', '4424408', '534498', '199694', '191660', '874750', '194297', 'New.CleanUp.ReferenceOTU1027', '882780', '1013657', '2310825', '539293', '790384', '714461', '210201', '363507', '310003', '4451906', '4395263', '909056', '1070143', '4365756', 'New.CleanUp.ReferenceOTU2131', 'New.CleanUp.ReferenceOTU2130', '71649', '931121', 'New.CleanUp.ReferenceOTU849', '1038987', 'New.CleanUp.ReferenceOTU1152', '706432', '196724', '4334651', '554436', '495052', '996487', '531515', '4429981', '1084952', 'New.CleanUp.ReferenceOTU248', '712917', '806832', '113751', '177061', 'New.CleanUp.ReferenceOTU2251', '2825358', '3924208', '419945', '699224', '779725', 'New.CleanUp.ReferenceOTU2606', '851782', '295019', '1809696', '4422519', '701221', 'New.CleanUp.ReferenceOTU1650', '197581', '814358', 'New.CleanUp.ReferenceOTU1851', 'New.CleanUp.ReferenceOTU1850', '495451', 'New.CleanUp.ReferenceOTU1852', '342427', 'New.CleanUp.ReferenceOTU1859', '293869', '543065', '4442930', '831289', '2751958', '559200', '811435', '4331858', '4428929', '754778', '797560', '316728', '24210', '559935', 'New.CleanUp.ReferenceOTU213', '269949', '1009973', '4321400', '692154', '175062', '322258', '1068499', '813945', '540055', '160651', '156477', '654696', '536890', '851961', '248296', '1121491', '993610', '4452107', '822337', '361811', '388019', '126195', '647215', '676367', 'New.CleanUp.ReferenceOTU2740', '1105486', '214919', 'New.CleanUp.ReferenceOTU2484', '161677', 'New.CleanUp.ReferenceOTU877', '3472245', 'New.CleanUp.ReferenceOTU1131', '429373', '238388', '1616059', '365484', 'New.CleanUp.ReferenceOTU161', '336703', 'New.CleanUp.ReferenceOTU1074', '1040172', '1060517', 'New.CleanUp.ReferenceOTU1217', 'New.CleanUp.ReferenceOTU1070', '449755', 'New.CleanUp.ReferenceOTU1372', '258548', '4298633', '1111582', 'New.CleanUp.ReferenceOTU713', '4420474', 'New.CleanUp.ReferenceOTU247', '12541', '262379', '523224', '4444599', '912160', '1025949', '369705', '180421', '6940', '532336', '929230', 'New.CleanUp.ReferenceOTU1476', '567966', 'New.CleanUp.ReferenceOTU663', '328892', 'New.CleanUp.ReferenceOTU399', '4306055', '174337', 'New.CleanUp.ReferenceOTU390', 'New.CleanUp.ReferenceOTU393', 'New.CleanUp.ReferenceOTU805', '818603', '818602', 'New.CleanUp.ReferenceOTU800', '751862', 'New.CleanUp.ReferenceOTU405', 'New.CleanUp.ReferenceOTU2304', 'New.CleanUp.ReferenceOTU1619', '1041758', '831401', '195759', '337729', '165706', '221648', 'New.CleanUp.ReferenceOTU2755', 'New.CleanUp.ReferenceOTU486', '1078248', 'New.CleanUp.ReferenceOTU488', '4465803', 'New.CleanUp.ReferenceOTU2814', '511378', '1126378', '1026498', '430191', '280799', 'New.CleanUp.ReferenceOTU1143', '174439', '620035', '420168', 'New.CleanUp.ReferenceOTU938', '510422', '220795', '4104836', 'New.CleanUp.ReferenceOTU930', '556835', '4379449', '510174', '1082539', '181174', 'New.CleanUp.ReferenceOTU1100', '4483152', '316888', '3769033', '696563', '1074625', '520775', '198928', '4298291', '535601', '3474081', '4318671', '527751', 'New.CleanUp.ReferenceOTU1296', 'New.CleanUp.ReferenceOTU1290', '840291', '3600504', '4472195', '1937180', 'New.CleanUp.ReferenceOTU2039', '4430826', '199190', 'New.CleanUp.ReferenceOTU2035', 'New.CleanUp.ReferenceOTU2032', 'New.CleanUp.ReferenceOTU2033', '4332830', 'New.CleanUp.ReferenceOTU2031', '25453', '247695', '1129060', '523542', '195508', '195509', '956625', '1072673', '2599028', '193763', '193769', '350277', '561636', '573124', '97301', '209595', '4364838', '873972', '509021', 'New.CleanUp.ReferenceOTU1042', '367433', '4346614', '191698', '905769', '585070', '1024093', 'New.CleanUp.ReferenceOTU1594', '967427', '973424', '898207', '235578', '1049574', '301270', '9465', '4422039', '898871', '514272', '1814180', 'New.CleanUp.ReferenceOTU2106', 'New.CleanUp.ReferenceOTU2107', '1130318', '820945', '271214', '854272', '948180', '4305935', '614182', '2084904', '133306', '198489', '3004856', '2529960', '335772', '179157', '187504', '68416', '518743', '4447072', '4094259', 'New.CleanUp.ReferenceOTU1917', '1139769', '4463767', 'New.CleanUp.ReferenceOTU1913', '363400', '949327', '327218', 'New.CleanUp.ReferenceOTU232', '519763', '805685', '1096842', 'New.CleanUp.ReferenceOTU723', '196664', '549557', '933546', '222032', '129048', '208424', '531675', '1111200', '125235', '251967', '1088647', '408706', 'New.CleanUp.ReferenceOTU1826', 'New.CleanUp.ReferenceOTU1827', 'New.CleanUp.ReferenceOTU1829', '4377102', '1044938', '719367', '583117', '966331', '4443574', '178385', '1111115', '368462', 'New.CleanUp.ReferenceOTU652', '530653', '931045', '529789', '368261', 'New.CleanUp.ReferenceOTU125', '208739', '851682', '288492', 'New.CleanUp.ReferenceOTU944', 'New.CleanUp.ReferenceOTU124', '4330715', '335565', '164088', '495084', '495086', '192983', '566820', '447341', '560336', '540269', '529940', '351231', '171559', 'New.CleanUp.ReferenceOTU556', '4305793', '147685', '961783', '580008', '720511', '4397579', '555423', '923032', 'New.CleanUp.ReferenceOTU2753', 'New.CleanUp.ReferenceOTU2750', '608293', '338605', '536831', '1030519', '3472257', '182854', '520774', '516292', '365496', '4417921', 'New.CleanUp.ReferenceOTU1140', '1140859', '987790', '2041715', '867135', 'New.CleanUp.ReferenceOTU1040', '4366889', '229434', '143210', 'New.CleanUp.ReferenceOTU1044', 'New.CleanUp.ReferenceOTU2392', 'New.CleanUp.ReferenceOTU1598', '993578', '80664', '970028', 'New.CleanUp.ReferenceOTU237', '354850', '607212', '367176', 'New.CleanUp.ReferenceOTU231', '4343884', 'New.CleanUp.ReferenceOTU2397', '188625', '764322', 'New.CleanUp.ReferenceOTU650', 'New.CleanUp.ReferenceOTU653', 'New.CleanUp.ReferenceOTU120', 'New.CleanUp.ReferenceOTU1442', '194925', '194924', 'New.CleanUp.ReferenceOTU659', 'New.CleanUp.ReferenceOTU658', '192364', '197214', 'New.CleanUp.ReferenceOTU1448', '110621', '525698', '4417325', '503354', '441265', '222818', '1109141', '858026'])\n"
     ]
    }
   ],
   "source": [
    "import qiime\n",
    "from qiime.filter import filter_otus_from_otu_map\n",
    "a=qiime.filter.filter_otus_from_otu_map('otus/final_otu_map.txt', 'otus/final_otu_map_mc2.txt', 2)\n",
    "print a"
   ]
  },
  {
   "cell_type": "code",
   "execution_count": null,
   "metadata": {
    "collapsed": true
   },
   "outputs": [],
   "source": [
    "## Add reference data to denovo \n",
    "### Documentation\n",
    "http://qiime.org/scripts/assign_taxonomy.html\n",
    "### Output Files\n",
    "<table>\n",
    "<hr><td>Output File</td><td>Description</td></hr>\n",
    "<tr><td>new_refseqs.fna</td><td>New reference sequences (i.e., OTU representative sequences plus input reference sequences)</td></tr>\n",
    "</table>\n",
    "\n"
   ]
  },
  {
   "cell_type": "code",
   "execution_count": 9,
   "metadata": {
    "collapsed": true
   },
   "outputs": [],
   "source": [
    "!cp /usr/local/lib/python2.7/dist-packages/qiime_default_reference/gg_13_8_otus/rep_set/97_otus.fasta otus/new_refseqs.fna"
   ]
  },
  {
   "cell_type": "markdown",
   "metadata": {
    "collapsed": true
   },
   "source": [
    "## Make the OTU table \n",
    "Build the OTU table from the previous step's OTU map.\n",
    "### Documentation\n",
    "http://qiime.org/scripts/make_otu_table.html\n",
    "### Output Files\n",
    "<table>\n",
    "<hr><td>Output File</td><td>Description</td></hr>\n",
    "<tr><td>otu_table_mc2.biom</td><td>Binary file. OTU table exluding OTUs with fewer than 2 sequences.\t</td></tr>\n",
    "</table>"
   ]
  },
  {
   "cell_type": "code",
   "execution_count": 10,
   "metadata": {
    "collapsed": false
   },
   "outputs": [
    {
     "name": "stdout",
     "output_type": "stream",
     "text": [
      "Traceback (most recent call last):\n",
      "  File \"/home/qiime/anaconda2/bin/make_otu_table.py\", line 119, in <module>\n",
      "    main()\n",
      "  File \"/home/qiime/anaconda2/bin/make_otu_table.py\", line 115, in main\n",
      "    write_biom_table(biom_otu_table, opts.output_biom_fp)\n",
      "  File \"/home/qiime/anaconda2/lib/python2.7/site-packages/qiime/util.py\", line 569, in write_biom_table\n",
      "    \"Attempting to write an empty BIOM table to disk. \"\n",
      "qiime.util.EmptyBIOMTableError: Attempting to write an empty BIOM table to disk. QIIME doesn't support writing empty BIOM output files.\n"
     ]
    }
   ],
   "source": [
    "!make_otu_table.py -i otus/final_otu_map_mc2.txt -o otus/otu_table_mc2.biom"
   ]
  },
  {
   "cell_type": "markdown",
   "metadata": {
    "collapsed": true
   },
   "source": [
    "## Assign Taxonomy\n",
    "Build the OTU table from the previous step's OTU map.\n",
    "### Documentation\n",
    "http://qiime.org/scripts/assign_taxonomy.html\n",
    "### Output Files\n",
    "<table>\n",
    "<hr><td>Output File</td><td>Description</td></hr>\n",
    "<tr><td>uclust_assigned_taxonomy/rep_set_tax_assignments.txt</td><td>   ?    </td></tr>\n",
    "<tr><td>uclust_assigned_taxonomy/rep_set.fna</td><td>OTU representative sequences</td></tr>\n",
    "<tr><td>uclust_assigned_taxonomy/rep_set_tax_assignments.log</td><td>? uClust file. A table with data about the clusters: Type, ClusterID, SeqLength or ClusterSize, %ID, etc.</td></tr>\n",
    "</table>"
   ]
  },
  {
   "cell_type": "code",
   "execution_count": null,
   "metadata": {
    "collapsed": false
   },
   "outputs": [],
   "source": [
    "!assign_taxonomy.py -o otus/uclust_assigned_taxonomy -i otus/rep_set.fna"
   ]
  },
  {
   "cell_type": "markdown",
   "metadata": {
    "collapsed": true
   },
   "source": [
    "## Add taxa to OTU table\n",
    "Add taxa metadata to the OTU table.\n",
    "### Documentation\n",
    "http://biom-format.org/documentation/adding_metadata.html\n",
    "### Output Files\n",
    "<table><hr><td>Output File</td><td>Description</td></hr>\n",
    "<tr><td>otu_table_mc2_w_tax.biom</td><td>Binary file. OTU table exluding OTUs with fewer than 2 sequences and including OTU taxonomy assignments.</td></tr>\n",
    "\n",
    "</table>"
   ]
  },
  {
   "cell_type": "code",
   "execution_count": null,
   "metadata": {
    "collapsed": true
   },
   "outputs": [],
   "source": [
    "!biom add-metadata -i otus/otu_table_mc2.biom --observation-metadata-fp otus/uclust_assigned_taxonomy/rep_set_tax_assignments.txt -o otus/otu_table_mc2_w_tax.biom --sc-separated taxonomy --observation-header OTUID,taxonomy"
   ]
  },
  {
   "cell_type": "markdown",
   "metadata": {
    "collapsed": true
   },
   "source": [
    "## Align sequences command \n",
    "Align the sequences with the Greengenes dataset.\n",
    "### Documentation\n",
    "http://qiime.org/scripts/align_seqs.html\n",
    "### Output Files\n",
    "<table><hr>\n",
    "<td>Output File</td><td>Description</td></hr>\n",
    "<tr><td>pynast_aligned_seqs/rep_set_aligned.fasta</td><td>Fasta file containing all aligned sequences.</td></tr>\n",
    "<tr><td>pynast_aligned_seqs/rep_set_failures.fasta</td><td>Fasta file containing all sequences not meeting criteria specified.</td></tr>\n",
    "<tr><td>pynast_aligned_seqs/rep_set_log.txt</td><td>Table detailing final sequence identification (sequence ID, Species#, BLAST %, etc).</td></tr>\n",
    "</table>"
   ]
  },
  {
   "cell_type": "code",
   "execution_count": null,
   "metadata": {
    "collapsed": true
   },
   "outputs": [],
   "source": [
    "!align_seqs.py -i otus/rep_set.fna -o otus/pynast_aligned_seqs "
   ]
  },
  {
   "cell_type": "markdown",
   "metadata": {
    "collapsed": true
   },
   "source": [
    "## Filter alignment\n",
    "Removes columns with gaps in all sequences.\n",
    "## Documentation\n",
    "### Output Files\n",
    "<table><hr>\n",
    "<td>Output File</td><td>Description</td></hr>\n",
    "<tr><td>pynast_aligned_seqs/rep_set_aligned_pfiltered.fasta</td><td>Fasta file containing only conserved positions.  i.e. Columns with only gaps are removed.</td></tr></table>"
   ]
  },
  {
   "cell_type": "code",
   "execution_count": null,
   "metadata": {
    "collapsed": true
   },
   "outputs": [],
   "source": [
    "!filter_alignment.py -o otus/pynast_aligned_seqs -i otus/pynast_aligned_seqs/rep_set_aligned.fasta "
   ]
  },
  {
   "cell_type": "markdown",
   "metadata": {
    "collapsed": true
   },
   "source": [
    "## Build phylogenetic tree\n",
    "Removes columns with gaps in all sequences.\n",
    "## Documentation\n",
    "### Output Files\n",
    "<table><hr>\n",
    "<td>Output File</td><td>Description</td></hr>\n",
    "<tr><td>rep_set.tre</td><td>OTU phylogenetic tree\t</td></tr>\n",
    "</table>"
   ]
  },
  {
   "cell_type": "code",
   "execution_count": null,
   "metadata": {
    "collapsed": true
   },
   "outputs": [],
   "source": [
    "!make_phylogeny.py -i otus/pynast_aligned_seqs/rep_set_aligned_pfiltered.fasta -o otus/rep_set.tre"
   ]
  },
  {
   "cell_type": "code",
   "execution_count": null,
   "metadata": {
    "collapsed": true
   },
   "outputs": [],
   "source": []
  },
  {
   "cell_type": "code",
   "execution_count": null,
   "metadata": {
    "collapsed": true
   },
   "outputs": [],
   "source": []
  },
  {
   "cell_type": "code",
   "execution_count": null,
   "metadata": {
    "collapsed": true
   },
   "outputs": [],
   "source": []
  },
  {
   "cell_type": "code",
   "execution_count": null,
   "metadata": {
    "collapsed": true
   },
   "outputs": [],
   "source": []
  },
  {
   "cell_type": "markdown",
   "metadata": {},
   "source": [
    "To compute some summary statistics of the OTU table we can run the following command."
   ]
  },
  {
   "cell_type": "code",
   "execution_count": null,
   "metadata": {
    "collapsed": false
   },
   "outputs": [],
   "source": [
    "!biom summarize-table -i otus/otu_table_mc2_w_tax_no_pynast_failures.biom"
   ]
  },
  {
   "cell_type": "markdown",
   "metadata": {},
   "source": [
    "The key piece of information you need to pull from this output is the depth of sequencing that should be used in diversity analyses. Many of the analyses that follow require that there are an equal number of sequences in each sample, so you need to review the *Counts/sample detail* and decide what depth you'd like. Any samples that don't have at least that many sequences will not be included in the analyses, so this is always a trade-off between the number of sequences you throw away and the number of samples you throw away. For some perspective on this, see [Kuczynski 2010](http://www.ncbi.nlm.nih.gov/pubmed/20441597)."
   ]
  },
  {
   "cell_type": "markdown",
   "metadata": {},
   "source": [
    "## Run diversity analyses"
   ]
  },
  {
   "cell_type": "markdown",
   "metadata": {},
   "source": [
    "Here we're running the ``core_diversity_analyses.py`` script which applies many of the \"first-pass\" diversity analyses that users are generally interested in. The main output that users will interact with is the ``index.html`` file, which provides links into the different analysis results.\n",
    "\n",
    "Note that in this step we're passing ``-e`` which is the sampling depth that should be used for diversity analyses. I chose 1114 here, based on reviewing the above output from ``biom summarize-table``. This value will be study-specific, so don't just use this value on your own data (though it's fine to use that value for this tutorial).\n",
    "\n",
    "**The commands in this section (combined) can take about 15 minutes to complete.**\n",
    "\n",
    "**You may see a RuntimeWarning generated by this command.** As the warning indicates, it's not something that you should be concerned about in this case. QIIME (and [scikit-bio](http://www.scikit-bio.org), which implements a lot of QIIME's core functionality) will *sometimes* provide these types of warnings to help you figure out if your analyses are valid, but you should always be thinking about whether a particular test or analysis is relevant for your data. Just because something can be passed as input to a QIIME script, doesn't necessarily mean that the analysis it performs is appropriate."
   ]
  },
  {
   "cell_type": "code",
   "execution_count": null,
   "metadata": {
    "collapsed": false
   },
   "outputs": [],
   "source": [
    "!core_diversity_analyses.py -o cdout/ -i otus/otu_table_mc2_w_tax_no_pynast_failures.biom -m map.tsv -t otus/rep_set.tre -e 1114"
   ]
  },
  {
   "cell_type": "markdown",
   "metadata": {},
   "source": [
    "Next open the ``index.html`` file in the resulting directory. This will link you into the different results."
   ]
  },
  {
   "cell_type": "markdown",
   "metadata": {},
   "source": [
    "The results above treat all samples independently, but sometimes (for example, in the taxonomic summaries) it's useful to categorize samples by their metadata. We can do this by passing categories (i.e., headers from our mapping file) to ``core_diversity_analyses.py`` with the ``-c`` parameter. Because ``core_diversity_analyses.py`` can take a long time to run, it has a ``--recover_from_failure`` option, which can allow it to be rerun from a point where it previously failed in some cases (for example, if you accidentally turned your computer off while it was running). This option can also be used to add categorical analyses if you didn't include them in your initial run. Next we'll rerun ``core_diversity_analyses.py`` with two sets of categorical analyses: one for the ``\"SampleType`` category, and one for the ``DaysSinceExperimentStart`` category. Remember the ``--recover_from_failure`` option: it can save you a lot of time."
   ]
  },
  {
   "cell_type": "code",
   "execution_count": null,
   "metadata": {
    "collapsed": false
   },
   "outputs": [],
   "source": [
    "!core_diversity_analyses.py -o cdout/ --recover_from_failure -c \"SampleType,DaysSinceExperimentStart\" -i otus/otu_table_mc2_w_tax_no_pynast_failures.biom -m map.tsv -t otus/rep_set.tre -e 1114"
   ]
  },
  {
   "cell_type": "markdown",
   "metadata": {},
   "source": [
    "One thing you may notice in the PCoA plots generated by ``core_diversity_analyses.py`` is that the samples don't cluster perfectly by ``SampleType``. This is unexpected, based on what we know about the human microbiome. Since this is a time series, let's explore this in a little more detail integrating a time axis into our PCoA plots. We can do this by re-running Emperor directly, replacing our previously generated PCoA plots. ([Emperor](http://biocore.github.io/emperor/) is a tool for the visualization of PCoA plots with many advanced features that you can explore in the [Emperor tutorial](http://biocore.github.io/emperor/tutorial_index.html). If you use Emperor in your research you should be sure to [cite it](http://www.ncbi.nlm.nih.gov/pubmed/24280061) directly, as with the other tools that QIIME wraps, such as [uclust](http://www.ncbi.nlm.nih.gov/pubmed/20709691) and [RDPClassifier](http://www.ncbi.nlm.nih.gov/pubmed/17586664).)\n",
    "\n",
    "After this runs, you can reload the Emperor plots that you accessed from the above ``cdout/index.html`` links. Try making the samples taken during ``AntibioticUsage`` invisible. "
   ]
  },
  {
   "cell_type": "code",
   "execution_count": null,
   "metadata": {
    "collapsed": false
   },
   "outputs": [],
   "source": [
    "!make_emperor.py -i cdout/bdiv_even1114/weighted_unifrac_pc.txt -o cdout/bdiv_even1114/weighted_unifrac_emperor_pcoa_plot -m map.tsv --custom_axes DaysSinceExperimentStart \n",
    "!make_emperor.py -i cdout/bdiv_even1114/unweighted_unifrac_pc.txt -o cdout/bdiv_even1114/unweighted_unifrac_emperor_pcoa_plot -m map.tsv --custom_axes DaysSinceExperimentStart "
   ]
  },
  {
   "cell_type": "markdown",
   "metadata": {},
   "source": [
    " **IMPORTANT**: Removing points from a PCoA plot, as is suggested above for data exploration purposes, is not the same as computing PCoA without those points. If after running this, you'd like to remove the samples taken during ``AntibioticUsage`` from the analysis, you can do this with ``filter_samples_from_otus_table.py``, which is discussed [here](http://qiime.org/tutorials/metadata_description.html). As an exercise, try removing the samples taken during ``AntibioticUsage`` from the OTU table and re-running ``core_diversity_analyses.py``. You should output the results to a different directory than you created above (e.g., ``cdout_no_abx``). "
   ]
  }
 ],
 "metadata": {
  "kernelspec": {
   "display_name": "Python [Root]",
   "language": "python",
   "name": "Python [Root]"
  },
  "language_info": {
   "codemirror_mode": {
    "name": "ipython",
    "version": 2
   },
   "file_extension": ".py",
   "mimetype": "text/x-python",
   "name": "python",
   "nbconvert_exporter": "python",
   "pygments_lexer": "ipython2",
   "version": "2.7.11"
  }
 },
 "nbformat": 4,
 "nbformat_minor": 0
}
