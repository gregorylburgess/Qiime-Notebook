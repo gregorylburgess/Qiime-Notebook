{
 "cells": [
  {
   "cell_type": "markdown",
   "metadata": {},
   "source": [
    "# Notes:\n",
    "* Greg didnt get any failures, so no idea if the last few commands work or not."
   ]
  },
  {
   "cell_type": "markdown",
   "metadata": {},
   "source": [
    "# 1. About\n",
    "This notebook runs through the Mothur MiSeq SOP tutorial found here: http://www.mothur.org/wiki/MiSeq_SOP .\n",
    "\n",
    "# 2. Installation\n",
    "This tutorial requires Qiime and PANDAseq, both of which can be downloaded/installed as directed below.  \n",
    "\n",
    "### Qiime\n",
    "http://qiime.org/install/install.html\n",
    "Qiime suggest using their pre-packaged Virtual Machine image.  This is quite big (4GB), but comes with a ready-to-go configuration.\n",
    "\n",
    "### PANDAseq\n",
    "https://github.com/neufeld/pandaseq/wiki/Installation.\n",
    "PANDAseq doesn't come with Qiime, so you'll need to install it separately.\n",
    "NOTE: Because Qiime uses Ubuntu 12.04, you may have issues calling apt-get update.  In this case, do this instead:  "
   ]
  },
  {
   "cell_type": "markdown",
   "metadata": {},
   "source": [
    "!sudo apt-add-repository ppa:neufeldlab/ppa && sudo apt-get install pandaseq"
   ]
  },
  {
   "cell_type": "markdown",
   "metadata": {},
   "source": [
    "# 3. MothurMagic\n",
    "To use Mothur in IPython, we need to load the mothurmagic extension. See https://github.com/SchlossLab/ipython-mothurmagic for more details."
   ]
  },
  {
   "cell_type": "code",
   "execution_count": 1,
   "metadata": {
    "collapsed": false
   },
   "outputs": [
    {
     "name": "stderr",
     "output_type": "stream",
     "text": [
      "/home/qiime/anaconda2/lib/python2.7/site-packages/IPython/core/magics/extension.py:47: UserWarning: %install_ext` is deprecated, please distribute your extension as a python package.\n",
      "  \"as a python package.\", UserWarning)\n"
     ]
    },
    {
     "name": "stdout",
     "output_type": "stream",
     "text": [
      "Installed mothurmagic.py. To use it, type:\n",
      "  %load_ext mothurmagic\n"
     ]
    }
   ],
   "source": [
    "%install_ext https://raw.githubusercontent.com/SchlossLab/ipython-mothurmagic/master/mothurmagic.py\n",
    "%load_ext mothurmagic"
   ]
  },
  {
   "cell_type": "markdown",
   "metadata": {},
   "source": [
    "# 3. Necessary Files\n",
    "First, we should download the files used in the tutorial.  The below cell does just that.  In total, the zipped files are about 36MB and may take a few minutes to download/unizp.  See http://www.mothur.org/wiki/MiSeq_SOP#Logistics for more details."
   ]
  },
  {
   "cell_type": "code",
   "execution_count": 2,
   "metadata": {
    "collapsed": false
   },
   "outputs": [
    {
     "name": "stdout",
     "output_type": "stream",
     "text": [
      "Current working directory is: /home/qiime/Desktop/Qiime_Notebook/qiime_notebook\n",
      "\n",
      "Done!\n"
     ]
    }
   ],
   "source": [
    "#####################################################\n",
    "##### Downloads and unzips all tutorial files #######\n",
    "#####################################################\n",
    "\n",
    "import urllib2\n",
    "import zipfile\n",
    "import os\n",
    "from subprocess import call\n",
    "\n",
    "# make a directory for our tutorial, and jump into it\n",
    "root=\"qiime_notebook\"\n",
    "if os.getcwd().split('/')[-1] != root:\n",
    "    if not os.path.isdir(root):\n",
    "        os.mkdir(root)\n",
    "    os.chdir(root)\n",
    "print \"Current working directory is: \" + os.getcwd()\n",
    "\n",
    "# Files to grab,''\n",
    "files = [('https://raw.githubusercontent.com/edamame-course/2014-tutorials/master/misc/QIIMETutorial_Misc/pandaseq_merge.sh',''),\n",
    "         ('http://www.mothur.org/w/images/d/d6/MiSeqSOPData.zip',''),\n",
    "         ('https://raw.githubusercontent.com/edamame-course/2014-tutorials/master/misc/QIIMETutorial_Misc/Schloss_Map.txt','')]\n",
    "\n",
    "# File Directory names:\n",
    "seq='MiSeq_SOP'\n",
    "    \n",
    "# Grab and unzip the files\n",
    "for url, path in files:\n",
    "    target = url.split('/')[-1]\n",
    "    if not os.path.isfile(target):\n",
    "        resource = urllib2.urlopen(url)\n",
    "        print \"Downloading \" + target + \"...\\n\"\n",
    "        open(target,'wb').write(resource.read())\n",
    "        \n",
    "        if url.split('.')[-1] == '.zip':\n",
    "            print \"Extracting \" + target + \"...\\n\"\n",
    "            zipfile.ZipFile(target).extractall(path)\n",
    "print \"\\nDone!\""
   ]
  },
  {
   "cell_type": "markdown",
   "metadata": {},
   "source": [
    "# 5. Commands\n",
    "\n",
    "## 1. Get a list of Read IDs\n",
    "We want to use PANDAseq to handle our paired-end merging, but PANDAseq require that you tell it explicitly which two files to merge.  Notice that the .fastq files in our directory are all named systematically: F3D[day]_S[id]_L001_[L/R]_001.fastq, where [day] is the day the sample was taken, [id] is a sample ID#, and [L/R] is either an L or R denoting a left/right read.  We can take advantage of this systematic naming with a bash script to generate the list of filenames we want to have PANDAseq run.  Our sample dataset includes a list of all the included .fastq files.  This list is called stability.files.  We can use grep to pull out the unique F3D[day]_S[id] combinations.  The following command below will read stability.files, pull out the F3D[day]_S[id] combinations and write them to a text file called SchlossSampleNames.txt.\n",
    "### 1.1 Output Files\n",
    "<table>\n",
    "<hr><td>Output File</td><td>Description</td></hr>\n",
    "<tr><td>SchlossSampleNames.txt </td><td>A textfile where each line contains the  F3D[day]_S[id] identifier corresponding to file name pairs in stability.files</td></tr>\n",
    "</table>\n"
   ]
  },
  {
   "cell_type": "code",
   "execution_count": 3,
   "metadata": {
    "collapsed": false
   },
   "outputs": [],
   "source": [
    "!cat MiSeq_SOP/stability.files | grep -oP \"\\t\\K(F.*)(?=_L001_R1_001.fastq)\" > SchlossSampleNames.txt"
   ]
  },
  {
   "cell_type": "markdown",
   "metadata": {},
   "source": [
    "## 1.  PANDAseq - Assembles left and right reads.\n",
    "### Options:\n",
    "-f    Forward Read file in fastq format.\n",
    "-r    Reverese Read file in fastq format.\n",
    "-w    File location to write the joined read file.\n",
    "-g    File location to write the log file.\n",
    "-l    Max length for a joined read.  Reads longer than this length will be discarded.\n",
    "-t    Minimum match threshold.  Reads that do not match above this threshold will be discarded.\n",
    "\n",
    "### Usage: \n",
    "pandaseq -f forward_read.fastq -r reverse_read.fastq -w output_file_location -g log_file_location -L length -t minimum_match_%\n",
    "\n",
    "Notice that this one command will merge a pair of files into one long read.  To join 1,000\n",
    "files, we would need 1,000 commands.  Since we don't want to type those commands manually, \n",
    "we should definitely automate it.  The bash script below does just that by reading  SchlossSampleNames.txt, automatically generating the forward, reverse, and output file names, and calling PANDAseq.\n",
    "\n",
    "### 1.1 Output Files:\n",
    "<table>\n",
    "<hr><td>Output File</td><td>Description</td></hr>\n",
    "<tr><td>pandaseq_merged_reads/F3D0_S188.fasta</td><td>Combined read for F3D0_S188.</td></tr>\n",
    "<tr><td>pandaseq_merged_reads/F3D0_S188.log</td><td>Log for F3D0_S188 with quality info and warnings?.</td></tr>\n",
    "<tr><td>pandaseq_merged_reads/F3D1_S189.fasta</td><td>Combined read for F3D1_S189.</td></tr>\n",
    "<tr><td>pandaseq_merged_reads/F3D1_S189.log</td><td>Log for F3D1_S189 with quality info and warnings?.</td></tr>\n",
    "<tr><td>...more logs and fastas...</td><td>...</td></tr><tr>\n",
    "<td>pandaseq_merged_reads/F3D150_S216.fasta</td><td>Combined read for F3D150_S216.</td></tr>\n",
    "<tr><td>pandaseq_merged_reads/F3D150_S216.log</td><td>Log for F3D150_S216 with quality info and warnings?.</td></tr>\n",
    "</table>"
   ]
  },
  {
   "cell_type": "code",
   "execution_count": 4,
   "metadata": {
    "collapsed": false
   },
   "outputs": [],
   "source": [
    "!chmod +x pandaseq_merge.sh\n",
    "!mkdir pandaseq_merged_reads\n",
    "!./pandaseq_merge.sh"
   ]
  },
  {
   "cell_type": "markdown",
   "metadata": {
    "collapsed": true
   },
   "source": [
    "## Aggregated Assembled Reads\n",
    "QIIME expects all of the data to be in one file, and, currently, we have one separate fastq file for each assembled read. We will add labels to each sample and merge into one fasta using the add_qiime_labels.py script. \n",
    "### Documentation\n",
    "http://qiime.org/scripts/add_qiime_labels.html\n",
    "### Output Files\n",
    "<table>\n",
    "<hr><td>Output File</td><td>Description</td></hr>\n",
    "<tr><td>combined_fasta/combined_seqs.fna</td><td>Contains all assembled reads, labeled with sample info.</td></tr>\n",
    "</table>"
   ]
  },
  {
   "cell_type": "code",
   "execution_count": 5,
   "metadata": {
    "collapsed": false
   },
   "outputs": [],
   "source": [
    "!add_qiime_labels.py -i pandaseq_merged_reads/ -m Schloss_Map.txt -c InputFileName -n 1 -o combined_fasta"
   ]
  },
  {
   "cell_type": "markdown",
   "metadata": {},
   "source": [
    "## Count the number of Sequences\n",
    "Counts the number of sequences in a fasta file.\n",
    "### Documentation\n",
    "http://qiime.org/scripts/count_seqs.html"
   ]
  },
  {
   "cell_type": "code",
   "execution_count": 6,
   "metadata": {
    "collapsed": false
   },
   "outputs": [
    {
     "name": "stdout",
     "output_type": "stream",
     "text": [
      "\r\n",
      "105904  : combined_fasta/combined_seqs.fna (Sequence lengths (mean +/- std): 252.5030 +/- 0.5343)\r\n",
      "105904  : Total\r\n"
     ]
    }
   ],
   "source": [
    "!count_seqs.py -i combined_fasta/combined_seqs.fna"
   ]
  },
  {
   "cell_type": "markdown",
   "metadata": {},
   "source": [
    "## Summarize the fasta file\n",
    "Summarizes a fasta file.\n",
    "### Documentation\n",
    "http://www.mothur.org/wiki/Summary.seqs\n",
    "### Output Files\t\n",
    "<table>\n",
    "<hr><td>Output File</td><td>Description</td></hr>\n",
    "<tr><td>combined_seqs.fna.summary</td><td>Table summarizing the fasta file (start, end, nbases, ambigs, homopolymer, numSeqs).</td></tr>\n",
    "</table>"
   ]
  },
  {
   "cell_type": "code",
   "execution_count": 7,
   "metadata": {
    "collapsed": false
   },
   "outputs": [
    {
     "name": "stdout",
     "output_type": "stream",
     "text": [
      "mothur > %%summary.seqs(fasta=combined_fasta/combined_seqs.fna)\n",
      "\n",
      "mothur > quit()\n"
     ]
    }
   ],
   "source": [
    "%%mothur\n",
    "%%summary.seqs(fasta=combined_fasta/combined_seqs.fna)"
   ]
  },
  {
   "cell_type": "markdown",
   "metadata": {
    "collapsed": true
   },
   "source": [
    "## Pick OTUS\n",
    "Runs denovo clustering over the combined reads.\n",
    "### Documentation\n",
    "http://qiime.org/scripts/pick_otus.html\n",
    "### Output Files\t\n",
    "<table>\n",
    "<hr><td>Output File</td><td>Description</td></hr>\n",
    "<tr><td>cdhit_picked_otus/combined_seqs_otus.log</td><td>Dump of denovo clustering parameters.</td></tr>\n",
    "<tr><td>cdhit_picked_otus/combined_seqs_otus.txt</td><td>Lists clusters and the sequences assigned to them.</td></tr>\n",
    "\n",
    "</table>"
   ]
  },
  {
   "cell_type": "code",
   "execution_count": 8,
   "metadata": {
    "collapsed": false
   },
   "outputs": [],
   "source": [
    "!pick_otus.py -i combined_fasta/combined_seqs.fna -m cdhit -o cdhit_picked_otus/ -s 0.97 -n 100"
   ]
  },
  {
   "cell_type": "markdown",
   "metadata": {
    "collapsed": true
   },
   "source": [
    "## Pick OTUS\n",
    "Picks a representative sequence from each cluster.\n",
    "### Documentation\n",
    "http://qiime.org/scripts/pick_rep_set.html\n",
    "### Output Files\t\n",
    "<table>\n",
    "<hr><td>Output File</td><td>Description</td></hr>\n",
    "<tr><td>cdhit_rep_seqs/cdhit_rep_seqs.fasta</td><td>List of representative sequences.</td></tr>\n",
    "<tr><td>cdhit_rep_seqs/cdhit_rep_seqs.log</td><td>Dump of parameters.</td></tr>\n",
    "\n",
    "\n",
    "</table>"
   ]
  },
  {
   "cell_type": "code",
   "execution_count": 9,
   "metadata": {
    "collapsed": false
   },
   "outputs": [],
   "source": [
    "!mkdir cdhit_rep_seqs/\n",
    "!pick_rep_set.py -i cdhit_picked_otus/combined_seqs_otus.txt -f combined_fasta/combined_seqs.fna -o cdhit_rep_seqs/cdhit_rep_seqs.fasta -l cdhit_rep_seqs/cdhit_rep_seqs.log"
   ]
  },
  {
   "cell_type": "markdown",
   "metadata": {},
   "source": [
    "## Count the number of Sequences\n",
    "Counts the number of sequences in a fasta file.\n",
    "### Documentation\n",
    "http://qiime.org/scripts/count_seqs.html"
   ]
  },
  {
   "cell_type": "code",
   "execution_count": 10,
   "metadata": {
    "collapsed": false
   },
   "outputs": [
    {
     "name": "stdout",
     "output_type": "stream",
     "text": [
      "\r\n",
      "689  : cdhit_rep_seqs/cdhit_rep_seqs.fasta (Sequence lengths (mean +/- std): 252.7649 +/- 0.5440)\r\n",
      "689  : Total\r\n"
     ]
    }
   ],
   "source": [
    "!count_seqs.py -i cdhit_rep_seqs/cdhit_rep_seqs.fasta"
   ]
  },
  {
   "cell_type": "markdown",
   "metadata": {},
   "source": [
    "## Align representative sequences\n",
    "Uses PYNAST to align representative sequences against the greengenes database.\n",
    "### Documentation\n",
    "http://qiime.org/scripts/pick_rep_set.html\n",
    "### Output Files\t\n",
    "<table>\n",
    "<hr><td>Output File</td><td>Description</td></hr>\n",
    "<tr><td>pynast_aligned/cdhit_rep_seqs_aligned.fasta</td><td>The aligned sequences.</td></tr>\n",
    "<tr><td>pynast_aligned/cdhit_rep_seqs_failures.fasta</td><td>Sequences that failed to align.</td></tr>\n",
    "<tr><td>pynast_aligned/cdhit_rep_seqs_failures_names.txt</td><td>List of representative sequences.</td></tr>\n",
    "<tr><td>pynast_aligned/cdhit_rep_seqs_log.txt</td><td>Table on alignment data.  Lists sequence, match ID, BLAST % match, etc.</td></tr>\n",
    "\n",
    "</table>"
   ]
  },
  {
   "cell_type": "code",
   "execution_count": 11,
   "metadata": {
    "collapsed": true
   },
   "outputs": [],
   "source": [
    "!align_seqs.py -i cdhit_rep_seqs/cdhit_rep_seqs.fasta -o pynast_aligned/ -e 100"
   ]
  },
  {
   "cell_type": "markdown",
   "metadata": {},
   "source": [
    "## Count the number of Successes and Failures\n",
    "Counts the number of sequences in a fasta file.\n",
    "### Documentation\n",
    "http://qiime.org/scripts/count_seqs.html"
   ]
  },
  {
   "cell_type": "code",
   "execution_count": 12,
   "metadata": {
    "collapsed": false
   },
   "outputs": [
    {
     "name": "stdout",
     "output_type": "stream",
     "text": [
      "\n",
      "0  : pynast_aligned/cdhit_rep_seqs_failures.fasta\n",
      "0  : Total\n",
      "\n",
      "689  : pynast_aligned/cdhit_rep_seqs_aligned.fasta (Sequence lengths (mean +/- std): 7682.0000 +/- 0.0000)\n",
      "689  : Total\n"
     ]
    }
   ],
   "source": [
    "!count_seqs.py -i pynast_aligned/cdhit_rep_seqs_failures.fasta\n",
    "!count_seqs.py -i pynast_aligned/cdhit_rep_seqs_aligned.fasta"
   ]
  },
  {
   "cell_type": "markdown",
   "metadata": {},
   "source": [
    "## Generate a List of Bad OTUs\n",
    "Use Grep to generate a list of OTUs that failed to align.\n",
    "### Documentation\n",
    "http://unixhelp.ed.ac.uk/CGI/man-cgi?grep\n",
    "### Output Files\t\n",
    "<table>\n",
    "<hr><td>Output File</td><td>Description</td></hr>\n",
    "<tr><td>pynast_aligned/cdhit_rep_seqs_failures_names.txt</td><td>Names of filtered </td></tr>\n",
    "</table>"
   ]
  },
  {
   "cell_type": "code",
   "execution_count": 13,
   "metadata": {
    "collapsed": true
   },
   "outputs": [],
   "source": [
    "!grep -o -E \"^>\\w+\" pynast_aligned/cdhit_rep_seqs_failures.fasta | tr -d \">\" > pynast_aligned/cdhit_rep_seqs_failures_names.txt"
   ]
  }
 ],
 "metadata": {
  "kernelspec": {
   "display_name": "Python [Root]",
   "language": "python",
   "name": "Python [Root]"
  },
  "language_info": {
   "codemirror_mode": {
    "name": "ipython",
    "version": 2
   },
   "file_extension": ".py",
   "mimetype": "text/x-python",
   "name": "python",
   "nbconvert_exporter": "python",
   "pygments_lexer": "ipython2",
   "version": "2.7.11"
  }
 },
 "nbformat": 4,
 "nbformat_minor": 0
}
